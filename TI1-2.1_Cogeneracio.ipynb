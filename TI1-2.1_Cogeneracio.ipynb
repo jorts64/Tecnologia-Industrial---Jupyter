{
 "cells": [
  {
   "cell_type": "markdown",
   "metadata": {},
   "source": [
    "# Cogeneració"
   ]
  },
  {
   "cell_type": "markdown",
   "metadata": {},
   "source": [
    "**PAU 2007 S3 4B**\n",
    "![](http://www.jorts.net/PAU/dbase/img/Screenshots_2013-05-01-18-26-30.png)"
   ]
  },
  {
   "cell_type": "markdown",
   "metadata": {},
   "source": [
    "Primer farem un diagrama del flux d'energia, ubicant les dades i les incògnites:\n",
    "\n",
    "![](img/diagramaCogeneracio.png)\n",
    "\n",
    "Introduim les dades (S.I.):\n",
    "\n"
   ]
  },
  {
   "cell_type": "code",
   "execution_count": 1,
   "metadata": {},
   "outputs": [],
   "source": [
    "Eelec = 65*10**6*3600\n",
    "mr = 75*10**3\n",
    "p = 11.8*10**6\n",
    "ma = 3*10**6\n",
    "deltat = 40\n",
    "ce = 4.18*10**3"
   ]
  },
  {
   "cell_type": "markdown",
   "metadata": {},
   "source": [
    "**a)** Calculem la calor Qc generada cada dia:\n",
    "\n"
   ]
  },
  {
   "cell_type": "code",
   "execution_count": 3,
   "metadata": {},
   "outputs": [
    {
     "data": {
      "text/plain": [
       "885000000000.0"
      ]
     },
     "execution_count": 3,
     "metadata": {},
     "output_type": "execute_result"
    }
   ],
   "source": [
    "Qc = mr*p\n",
    "Qc"
   ]
  },
  {
   "cell_type": "markdown",
   "metadata": {},
   "source": [
    "Ara podem calcular el rendiment mitja de la planta $\\eta_{elèc}$ com el quocient de l'energia generada i l'energia consumida cada dia:\n",
    "\n"
   ]
  },
  {
   "cell_type": "code",
   "execution_count": 5,
   "metadata": {},
   "outputs": [
    {
     "data": {
      "text/plain": [
       "0.26440677966101694"
      ]
     },
     "execution_count": 5,
     "metadata": {},
     "output_type": "execute_result"
    }
   ],
   "source": [
    "ETAelec = Eelec/Qc\n",
    "ETAelec"
   ]
  },
  {
   "cell_type": "markdown",
   "metadata": {},
   "source": [
    "Arrodonint, $\\eta_{elèc}$ = 0,2644"
   ]
  },
  {
   "cell_type": "markdown",
   "metadata": {},
   "source": [
    "**b)** Calculem la calor Q no aprofitada per la planta\n",
    "\n",
    "$Q = (1 - \\eta_{elèc}) \\cdot Q_{c}$"
   ]
  },
  {
   "cell_type": "code",
   "execution_count": 7,
   "metadata": {},
   "outputs": [
    {
     "data": {
      "text/plain": [
       "651000000000.0"
      ]
     },
     "execution_count": 7,
     "metadata": {},
     "output_type": "execute_result"
    }
   ],
   "source": [
    "Q = (1-ETAelec)*Qc\n",
    "Q"
   ]
  },
  {
   "cell_type": "markdown",
   "metadata": {},
   "source": [
    "La calor util Qu que escalfa l'aigua el podem calcular com\n",
    "\n",
    "$Q_{u} = m_{a} \\cdot c_{e} \\cdot \\Delta t$\n"
   ]
  },
  {
   "cell_type": "code",
   "execution_count": 8,
   "metadata": {},
   "outputs": [
    {
     "data": {
      "text/plain": [
       "501600000000.0"
      ]
     },
     "execution_count": 8,
     "metadata": {},
     "output_type": "execute_result"
    }
   ],
   "source": [
    "Qu = ma*ce*deltat\n",
    "Qu"
   ]
  },
  {
   "cell_type": "markdown",
   "metadata": {},
   "source": [
    "El rendiment tèrmic mitja $\\eta_{tèrmic}$ serà el quocient entre la calor útil (Qu) i la que no s'ha aprofitat a la transformació elèctrica (Q)"
   ]
  },
  {
   "cell_type": "code",
   "execution_count": 9,
   "metadata": {},
   "outputs": [
    {
     "data": {
      "text/plain": [
       "0.7705069124423963"
      ]
     },
     "execution_count": 9,
     "metadata": {},
     "output_type": "execute_result"
    }
   ],
   "source": [
    "etatermic = Qu/Q\n",
    "etatermic"
   ]
  },
  {
   "cell_type": "markdown",
   "metadata": {},
   "source": [
    "Arrodonint, $\\eta_{tèrmic} = 0,7705$"
   ]
  },
  {
   "cell_type": "markdown",
   "metadata": {},
   "source": [
    "**c)** Com un dia té 86400 s :"
   ]
  },
  {
   "cell_type": "code",
   "execution_count": 10,
   "metadata": {},
   "outputs": [
    {
     "data": {
      "text/plain": [
       "2708333.3333333335"
      ]
     },
     "execution_count": 10,
     "metadata": {},
     "output_type": "execute_result"
    }
   ],
   "source": [
    "Pelec = Eelec/86400\n",
    "Pelec"
   ]
  },
  {
   "cell_type": "markdown",
   "metadata": {},
   "source": [
    "Arrodonint $P_{elèc} = 2,708 \\hspace{1mm} MW$"
   ]
  },
  {
   "cell_type": "markdown",
   "metadata": {},
   "source": [
    "En un dia el volum d'aigua escalfada sera la massa d'aigua dividida per la densitat:"
   ]
  },
  {
   "cell_type": "code",
   "execution_count": 11,
   "metadata": {},
   "outputs": [
    {
     "data": {
      "text/plain": [
       "3000.0"
      ]
     },
     "execution_count": 11,
     "metadata": {},
     "output_type": "execute_result"
    }
   ],
   "source": [
    "Va = ma / 1000\n",
    "Va"
   ]
  },
  {
   "cell_type": "markdown",
   "metadata": {},
   "source": [
    "Per tant, el cabal -que és aquest volum dividit pels 86400 s d'un dia- serà, en m³/s:"
   ]
  },
  {
   "cell_type": "code",
   "execution_count": 12,
   "metadata": {},
   "outputs": [
    {
     "data": {
      "text/plain": [
       "0.034722222222222224"
      ]
     },
     "execution_count": 12,
     "metadata": {},
     "output_type": "execute_result"
    }
   ],
   "source": [
    "q = Va/86400\n",
    "q"
   ]
  },
  {
   "cell_type": "markdown",
   "metadata": {},
   "source": [
    "Arrodonint, $q = 34,72 \\hspace{1mm} l/s$"
   ]
  },
  {
   "cell_type": "code",
   "execution_count": null,
   "metadata": {},
   "outputs": [],
   "source": []
  }
 ],
 "metadata": {
  "kernelspec": {
   "display_name": "Python 3",
   "language": "python",
   "name": "python3"
  },
  "language_info": {
   "codemirror_mode": {
    "name": "ipython",
    "version": 3
   },
   "file_extension": ".py",
   "mimetype": "text/x-python",
   "name": "python",
   "nbconvert_exporter": "python",
   "pygments_lexer": "ipython3",
   "version": "3.7.3"
  }
 },
 "nbformat": 4,
 "nbformat_minor": 4
}
