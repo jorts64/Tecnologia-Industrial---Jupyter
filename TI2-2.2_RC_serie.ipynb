{
 "cells": [
  {
   "cell_type": "markdown",
   "metadata": {},
   "source": [
    "# Estudi d'un circuit RC sèrie"
   ]
  },
  {
   "cell_type": "markdown",
   "metadata": {},
   "source": [
    "Un circuit sèrie amb una resistència $R = 10 \\ \\Omega$ i un condensador $C = 162,48 \\ \\mu F$ està connectat a una xarxa monofàsica $U = 200 V$ i $f = 50 Hz$"
   ]
  },
  {
   "cell_type": "markdown",
   "metadata": {},
   "source": [
    "$$\n",
    "\\begin{matrix}\n",
    "X_{C} = \\frac{-j}{C \\omega} &\n",
    "\\omega = 2 \\pi f &\n",
    "Z = R + X_{C}\n",
    "\\\\\n",
    "\\end{matrix}\n",
    "$$"
   ]
  },
  {
   "cell_type": "code",
   "execution_count": 1,
   "metadata": {},
   "outputs": [],
   "source": [
    "import numpy as np\n",
    "import matplotlib.pyplot as plt"
   ]
  },
  {
   "cell_type": "markdown",
   "metadata": {},
   "source": [
    "## Dades"
   ]
  },
  {
   "cell_type": "code",
   "execution_count": 2,
   "metadata": {},
   "outputs": [],
   "source": [
    "R = 10\n",
    "C = 162.48 * 10**(-6)\n",
    "U = 220\n",
    "f = 50\n",
    "w = 2 * np.pi * f"
   ]
  },
  {
   "cell_type": "markdown",
   "metadata": {},
   "source": [
    "## Càlcul de les impedàncies"
   ]
  },
  {
   "cell_type": "code",
   "execution_count": 3,
   "metadata": {},
   "outputs": [
    {
     "data": {
      "text/plain": [
       "-19.590711852769j"
      ]
     },
     "execution_count": 3,
     "metadata": {},
     "output_type": "execute_result"
    }
   ],
   "source": [
    "Xc = 0 -1j/(C*w)\n",
    "Xc"
   ]
  },
  {
   "cell_type": "markdown",
   "metadata": {},
   "source": [
    "$X_{C} = 19.59_{-90^{\\circ}} \\ \\Omega$"
   ]
  },
  {
   "cell_type": "code",
   "execution_count": 4,
   "metadata": {},
   "outputs": [
    {
     "data": {
      "text/plain": [
       "(10-19.590711852769j)"
      ]
     },
     "execution_count": 4,
     "metadata": {},
     "output_type": "execute_result"
    }
   ],
   "source": [
    "Z = R + Xc\n",
    "Z"
   ]
  },
  {
   "cell_type": "code",
   "execution_count": 5,
   "metadata": {},
   "outputs": [
    {
     "data": {
      "text/plain": [
       "21.995362940816044"
      ]
     },
     "execution_count": 5,
     "metadata": {},
     "output_type": "execute_result"
    }
   ],
   "source": [
    "modZ = np.abs(Z)\n",
    "modZ"
   ]
  },
  {
   "cell_type": "code",
   "execution_count": 6,
   "metadata": {},
   "outputs": [
    {
     "data": {
      "text/plain": [
       "-62.958143957668284"
      ]
     },
     "execution_count": 6,
     "metadata": {},
     "output_type": "execute_result"
    }
   ],
   "source": [
    "angZ = np.degrees(np.angle(Z))\n",
    "angZ"
   ]
  },
  {
   "cell_type": "markdown",
   "metadata": {},
   "source": [
    "$Z = 22_{-62,96^{\\circ}} \\ \\Omega$"
   ]
  },
  {
   "cell_type": "code",
   "execution_count": 7,
   "metadata": {},
   "outputs": [
    {
     "data": {
      "image/png": "[encoded data removed]",
      "text/plain": [
       "<Figure size 432x288 with 1 Axes>"
      ]
     },
     "metadata": {
      "needs_background": "light"
     },
     "output_type": "display_data"
    }
   ],
   "source": [
    "%matplotlib inline\n",
    "\n",
    "\n",
    "plt.annotate('', xy=(np.real(Z), np.imag(Z)), xytext=(0, 0),\n",
    "             arrowprops=dict(facecolor='blue', shrink=0.05),\n",
    "             )\n",
    "\n",
    "plt.annotate('', xy=(np.real(Z), 0), xytext=(0, 0),\n",
    "             arrowprops=dict(facecolor='green', shrink=0.05),\n",
    "             )\n",
    "\n",
    "plt.annotate('', xy=(np.real(Z), np.imag(Z)), xytext=(np.real(Z), 0),\n",
    "             arrowprops=dict(facecolor='red', shrink=0.05),\n",
    "             )\n",
    "\n",
    "plt.annotate(\"$Z = 22 \\ \\Omega$\", xy=(1.5, -12))\n",
    "plt.annotate(\"$R = 10 \\ \\Omega$\", xy=(6, -3))\n",
    "plt.annotate(\"$X_{C} = 19,59 \\ \\Omega$\", xy=(11,-10))\n",
    "plt.annotate(\"$62,96^{\\circ}$\", xy=(2,-2))\n",
    "\n",
    "plt.xlim(0, 25)\n",
    "plt.ylim(-25, 0)\n",
    "plt.axis('off')\n",
    "plt.show()"
   ]
  },
  {
   "cell_type": "markdown",
   "metadata": {},
   "source": [
    "## Factor de potència"
   ]
  },
  {
   "cell_type": "code",
   "execution_count": 8,
   "metadata": {},
   "outputs": [
    {
     "data": {
      "text/plain": [
       "0.9920358997298501"
      ]
     },
     "execution_count": 8,
     "metadata": {},
     "output_type": "execute_result"
    }
   ],
   "source": [
    "fdp = np.cos(angZ)\n",
    "fdp"
   ]
  },
  {
   "cell_type": "markdown",
   "metadata": {},
   "source": [
    "$cos(\\varphi) = 0,9920$"
   ]
  },
  {
   "cell_type": "markdown",
   "metadata": {},
   "source": [
    "## Intensitat"
   ]
  },
  {
   "cell_type": "code",
   "execution_count": 9,
   "metadata": {},
   "outputs": [
    {
     "data": {
      "text/plain": [
       "(4.547371291596367+8.908624066121842j)"
      ]
     },
     "execution_count": 9,
     "metadata": {},
     "output_type": "execute_result"
    }
   ],
   "source": [
    "I = U/Z\n",
    "I"
   ]
  },
  {
   "cell_type": "code",
   "execution_count": 10,
   "metadata": {},
   "outputs": [
    {
     "data": {
      "text/plain": [
       "10.002108198530951"
      ]
     },
     "execution_count": 10,
     "metadata": {},
     "output_type": "execute_result"
    }
   ],
   "source": [
    "modI = np.abs(I)\n",
    "modI"
   ]
  },
  {
   "cell_type": "code",
   "execution_count": 11,
   "metadata": {},
   "outputs": [
    {
     "data": {
      "text/plain": [
       "62.958143957668284"
      ]
     },
     "execution_count": 11,
     "metadata": {},
     "output_type": "execute_result"
    }
   ],
   "source": [
    "angI = np.degrees(np.angle(I))\n",
    "angI"
   ]
  },
  {
   "cell_type": "markdown",
   "metadata": {},
   "source": [
    "$I = 10_{62,96^{\\circ}} \\ A$"
   ]
  },
  {
   "cell_type": "code",
   "execution_count": 12,
   "metadata": {},
   "outputs": [
    {
     "data": {
      "image/png": "[encoded data removed]",
      "text/plain": [
       "<Figure size 432x288 with 1 Axes>"
      ]
     },
     "metadata": {
      "needs_background": "light"
     },
     "output_type": "display_data"
    }
   ],
   "source": [
    "%matplotlib inline\n",
    "\n",
    "\n",
    "plt.annotate('', xy=(10*np.real(I), 10*np.imag(I)), xytext=(0, 0),\n",
    "             arrowprops=dict(facecolor='blue', shrink=0.05),\n",
    "             )\n",
    "\n",
    "plt.annotate('', xy=(U, 0), xytext=(0, 0),\n",
    "             arrowprops=dict(facecolor='green', shrink=0.05),\n",
    "             )\n",
    "\n",
    "plt.annotate(\"$I = 10 \\ A$\", xy=(50, 100))\n",
    "plt.annotate(\"$U = 220 \\  V$\", xy=(150, 10))\n",
    "plt.annotate(\"$62,96^{\\circ}$\", xy=(30,20))\n",
    "\n",
    "plt.xlim(0, 250)\n",
    "plt.ylim(0, 250)\n",
    "plt.axis('off')\n",
    "plt.show()"
   ]
  },
  {
   "cell_type": "markdown",
   "metadata": {},
   "source": [
    "## Tensions"
   ]
  },
  {
   "cell_type": "code",
   "execution_count": 13,
   "metadata": {},
   "outputs": [
    {
     "data": {
      "text/plain": [
       "(45.47371291596367+89.08624066121843j)"
      ]
     },
     "execution_count": 13,
     "metadata": {},
     "output_type": "execute_result"
    }
   ],
   "source": [
    "Ur = R * I\n",
    "Ur"
   ]
  },
  {
   "cell_type": "code",
   "execution_count": 14,
   "metadata": {},
   "outputs": [
    {
     "data": {
      "text/plain": [
       "100.02108198530952"
      ]
     },
     "execution_count": 14,
     "metadata": {},
     "output_type": "execute_result"
    }
   ],
   "source": [
    "modUr = np.abs(Ur)\n",
    "modUr"
   ]
  },
  {
   "cell_type": "code",
   "execution_count": 15,
   "metadata": {},
   "outputs": [
    {
     "data": {
      "text/plain": [
       "62.958143957668284"
      ]
     },
     "execution_count": 15,
     "metadata": {},
     "output_type": "execute_result"
    }
   ],
   "source": [
    "angUr = np.degrees(np.angle(Ur))\n",
    "angUr"
   ]
  },
  {
   "cell_type": "markdown",
   "metadata": {},
   "source": [
    "$U_{R} = 100_{62,96^{\\circ}} \\ V$"
   ]
  },
  {
   "cell_type": "code",
   "execution_count": 16,
   "metadata": {},
   "outputs": [
    {
     "data": {
      "text/plain": [
       "(174.52628708403634-89.08624066121843j)"
      ]
     },
     "execution_count": 16,
     "metadata": {},
     "output_type": "execute_result"
    }
   ],
   "source": [
    "Uc = Xc * I\n",
    "Uc"
   ]
  },
  {
   "cell_type": "code",
   "execution_count": 17,
   "metadata": {},
   "outputs": [
    {
     "data": {
      "text/plain": [
       "195.9484196376383"
      ]
     },
     "execution_count": 17,
     "metadata": {},
     "output_type": "execute_result"
    }
   ],
   "source": [
    "modUc = np.abs(Uc)\n",
    "modUc"
   ]
  },
  {
   "cell_type": "code",
   "execution_count": 18,
   "metadata": {},
   "outputs": [
    {
     "data": {
      "text/plain": [
       "-27.04185604233172"
      ]
     },
     "execution_count": 18,
     "metadata": {},
     "output_type": "execute_result"
    }
   ],
   "source": [
    "angUc = np.degrees(np.angle(Uc))\n",
    "angUc"
   ]
  },
  {
   "cell_type": "markdown",
   "metadata": {},
   "source": [
    "$U_{C} = 196_{-27,04^{\\circ}} \\ V$"
   ]
  },
  {
   "cell_type": "code",
   "execution_count": 19,
   "metadata": {},
   "outputs": [
    {
     "data": {
      "image/png": "[encoded data removed]",
      "text/plain": [
       "<Figure size 432x288 with 1 Axes>"
      ]
     },
     "metadata": {
      "needs_background": "light"
     },
     "output_type": "display_data"
    }
   ],
   "source": [
    "%matplotlib inline\n",
    "\n",
    "\n",
    "plt.annotate('', xy=(np.real(Ur), np.imag(Ur)), xytext=(0, 0),\n",
    "             arrowprops=dict(facecolor='blue', shrink=0.05),\n",
    "             )\n",
    "\n",
    "plt.annotate('', xy=(U, 0), xytext=(0, 0),\n",
    "             arrowprops=dict(facecolor='green', shrink=0.05),\n",
    "             )\n",
    "\n",
    "plt.annotate('', xy=(U, 0), xytext=(np.real(Ur), np.imag(Ur)),\n",
    "             arrowprops=dict(facecolor='red', shrink=0.05),\n",
    "             )\n",
    "\n",
    "\n",
    "plt.annotate(\"$U_{R} = 45,47 \\ V$\", xy=(0, 100))\n",
    "plt.annotate(\"$U_{C} = 174,5 \\ V$\", xy=(125, 75))\n",
    "plt.annotate(\"$U = 220 \\  V$\", xy=(100, 10))\n",
    "plt.annotate(\"$62,96^{\\circ}$\", xy=(30,20))\n",
    "\n",
    "plt.xlim(0, 250)\n",
    "plt.ylim(0, 250)\n",
    "plt.axis('off')\n",
    "plt.show()"
   ]
  },
  {
   "cell_type": "markdown",
   "metadata": {},
   "source": [
    "## Potències"
   ]
  },
  {
   "cell_type": "code",
   "execution_count": 20,
   "metadata": {},
   "outputs": [
    {
     "data": {
      "text/plain": [
       "(1000.4216841512007-1959.8972945468051j)"
      ]
     },
     "execution_count": 20,
     "metadata": {},
     "output_type": "execute_result"
    }
   ],
   "source": [
    "S = U * np.conj(I)\n",
    "S"
   ]
  },
  {
   "cell_type": "code",
   "execution_count": 21,
   "metadata": {},
   "outputs": [
    {
     "data": {
      "text/plain": [
       "2200.463803676809"
      ]
     },
     "execution_count": 21,
     "metadata": {},
     "output_type": "execute_result"
    }
   ],
   "source": [
    "modS = np.abs(S)\n",
    "modS"
   ]
  },
  {
   "cell_type": "code",
   "execution_count": 22,
   "metadata": {},
   "outputs": [
    {
     "data": {
      "text/plain": [
       "-62.958143957668284"
      ]
     },
     "execution_count": 22,
     "metadata": {},
     "output_type": "execute_result"
    }
   ],
   "source": [
    "angS = np.degrees(np.angle(S))\n",
    "angS"
   ]
  },
  {
   "cell_type": "markdown",
   "metadata": {},
   "source": [
    "$S = 2200_{-62,96^{\\circ}} \\ VA$"
   ]
  },
  {
   "cell_type": "code",
   "execution_count": 23,
   "metadata": {},
   "outputs": [
    {
     "data": {
      "text/plain": [
       "1000.4216841512007"
      ]
     },
     "execution_count": 23,
     "metadata": {},
     "output_type": "execute_result"
    }
   ],
   "source": [
    "P = np.real(S)\n",
    "P"
   ]
  },
  {
   "cell_type": "markdown",
   "metadata": {},
   "source": [
    "$P = 1000 \\ W$"
   ]
  },
  {
   "cell_type": "code",
   "execution_count": 24,
   "metadata": {},
   "outputs": [
    {
     "data": {
      "text/plain": [
       "-1959.8972945468051"
      ]
     },
     "execution_count": 24,
     "metadata": {},
     "output_type": "execute_result"
    }
   ],
   "source": [
    "Q = np.imag(S)\n",
    "Q"
   ]
  },
  {
   "cell_type": "markdown",
   "metadata": {},
   "source": [
    "$Q = -1960 \\ var$"
   ]
  },
  {
   "cell_type": "code",
   "execution_count": 25,
   "metadata": {},
   "outputs": [
    {
     "data": {
      "image/png": "[encoded data removed]",
      "text/plain": [
       "<Figure size 432x288 with 1 Axes>"
      ]
     },
     "metadata": {
      "needs_background": "light"
     },
     "output_type": "display_data"
    }
   ],
   "source": [
    "%matplotlib inline\n",
    "\n",
    "\n",
    "plt.annotate('', xy=(np.real(S), np.imag(S)), xytext=(0, 0),\n",
    "             arrowprops=dict(facecolor='blue', shrink=0.05),\n",
    "             )\n",
    "\n",
    "plt.annotate('', xy=(np.real(S), 0), xytext=(0, 0),\n",
    "             arrowprops=dict(facecolor='green', shrink=0.05),\n",
    "             )\n",
    "\n",
    "plt.annotate('', xy=(np.real(S), np.imag(S)), xytext=(np.real(S), 0),\n",
    "             arrowprops=dict(facecolor='red', shrink=0.05),\n",
    "             )\n",
    "\n",
    "plt.annotate(\"$S = 2200 \\ VA$\", xy=(50, -1200))\n",
    "plt.annotate(\"$P = 1000 \\ W$\", xy=(500, -300))\n",
    "plt.annotate(\"$Q = -1960 \\ var$\", xy=(1100,-1000))\n",
    "plt.annotate(\"$62,96^{\\circ}$\", xy=(125,-175))\n",
    "\n",
    "plt.xlim(0, 2500)\n",
    "plt.ylim(-2500, 0)\n",
    "plt.axis('off')\n",
    "plt.show()"
   ]
  },
  {
   "cell_type": "code",
   "execution_count": null,
   "metadata": {},
   "outputs": [],
   "source": []
  }
 ],
 "metadata": {
  "kernelspec": {
   "display_name": "Python 3",
   "language": "python",
   "name": "python3"
  },
  "language_info": {
   "codemirror_mode": {
    "name": "ipython",
    "version": 3
   },
   "file_extension": ".py",
   "mimetype": "text/x-python",
   "name": "python",
   "nbconvert_exporter": "python",
   "pygments_lexer": "ipython3",
   "version": "3.7.3"
  }
 },
 "nbformat": 4,
 "nbformat_minor": 4
}
