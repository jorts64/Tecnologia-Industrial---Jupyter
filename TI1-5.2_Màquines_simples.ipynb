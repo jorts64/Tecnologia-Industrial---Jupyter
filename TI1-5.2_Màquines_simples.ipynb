{
 "cells": [
  {
   "cell_type": "markdown",
   "metadata": {},
   "source": [
    "## Màquines simples"
   ]
  },
  {
   "cell_type": "markdown",
   "metadata": {},
   "source": [
    "## Palanca"
   ]
  },
  {
   "cell_type": "markdown",
   "metadata": {},
   "source": [
    "Com veieu la coneguda *llei de la palanca* és només la condició d'equilibri $\\sum \\overrightarrow{\\Gamma_i} = \\overrightarrow{0}$ aplicada sobre el fulcre:\n",
    "\n",
    "![](img/palanca.gif)\n",
    "\n",
    "$\\frac{d_a}{d_b}$ és l'**avantatge mecànic**, relació entre la força obtinguda $F_b$ i la força exercida $F_a$."
   ]
  },
  {
   "cell_type": "markdown",
   "metadata": {},
   "source": [
    "## Pla inclinat"
   ]
  },
  {
   "cell_type": "markdown",
   "metadata": {},
   "source": [
    "Permet pujar carregues amb menys esforç\n",
    "\n",
    "![](img/pla_inclinat.svg)\n",
    "\n",
    "Com veieu, l'avantatge mecànic és $\\frac{h}{x} = tan(\\alpha)$"
   ]
  },
  {
   "cell_type": "markdown",
   "metadata": {},
   "source": [
    "Una **falca** es basa en el mateix principi. Quan fem una força avancem una mica, exercint una força lateral amb un desplaçament més petit. L'avantatge mecànic ve donat pel quocient d'aquests avanços, que val $\\frac{L}{A}$ on $L$ és la longitud de la cara inclinada i $A$ és l'amplada de la falca. \n",
    "\n",
    "![](img/Wedge-diagram.svg)"
   ]
  },
  {
   "cell_type": "markdown",
   "metadata": {},
   "source": [
    "## Politges"
   ]
  },
  {
   "cell_type": "markdown",
   "metadata": {},
   "source": [
    "Si bé a la politja fixa hem de fer un força igual al pes que volem aixecar, a la politja mòbil només necessitem la meitat d'aquest pes, ja que cal estirar la corda el doble de longitud que l'alçada elevada.\n",
    "\n",
    "![](img/Meyers_b13_s0895_b1.png)\n",
    "\n",
    "Com el $W = Fd = mgh$, l'avantatge mecànic depèn del nombre de politges utilitzades, com es pot apreciar en aquesta imatge de Leonardo da Vinci conservada al Codex Forster III, c.86v.\n",
    "\n",
    "![](img/20Pulley-Da_Vinci.jpg)"
   ]
  },
  {
   "cell_type": "markdown",
   "metadata": {},
   "source": [
    "## Cargol"
   ]
  },
  {
   "cell_type": "markdown",
   "metadata": {},
   "source": [
    "Potser amb la roda un dels invents més revolucionari. \n",
    "\n",
    "Si donem la volta a un cargol amb una força **F** a una distància **L** (llargada de la maneta) el cargol avança una distància **p** (el pas del cargol) amb una força **R**. Com els treballs són iguals\n",
    "\n",
    "$R = F \\cdot \\frac{2\\pi L}{p}$\n",
    "\n",
    "![](img/Vajco.png)\n",
    "\n",
    "Veiem un exemple amb un cargol de banc. Dades raonables són una maneta de 20 cm i un pas de 1 mm. L'avantatge mecànic seria: "
   ]
  },
  {
   "cell_type": "code",
   "execution_count": 4,
   "metadata": {},
   "outputs": [
    {
     "data": {
      "text/plain": [
       "1256.6370614359173"
      ]
     },
     "execution_count": 4,
     "metadata": {},
     "output_type": "execute_result"
    }
   ],
   "source": [
    "from numpy import * \n",
    "L = 200\n",
    "p = 1\n",
    "2 * pi * L / p"
   ]
  },
  {
   "cell_type": "markdown",
   "metadata": {},
   "source": [
    "Un gat mecànic es basa en aquest principi, però el càlcul és més complicat ja que cal conèixer la relació entre l'elevació del gat i el pas del cargol, que podem considerar de l'ordre de l'unitat. Així fem possible que fent una força de només 25 N podem aixecar un cotxe amb una masa d'una tona. Això si, trigarem una bona estona! \n",
    "\n",
    "![](img/Jackscrew.jpg)"
   ]
  },
  {
   "cell_type": "markdown",
   "metadata": {},
   "source": [
    "## Torn de corró"
   ]
  },
  {
   "cell_type": "markdown",
   "metadata": {},
   "source": [
    "Quan fem una força $P$ a la maneta de llargària $L$ el pes $W$ s'eleva en enrollar-se la corda al corró de radi $r$. Igualant els moments trobem\n",
    "\n",
    "$W = \\frac{L}{r} \\cdot P$\n",
    "\n",
    "![](img/Wheelaxle_quackenbos.gif)"
   ]
  },
  {
   "cell_type": "code",
   "execution_count": null,
   "metadata": {},
   "outputs": [],
   "source": []
  }
 ],
 "metadata": {
  "kernelspec": {
   "display_name": "Python 3",
   "language": "python",
   "name": "python3"
  },
  "language_info": {
   "codemirror_mode": {
    "name": "ipython",
    "version": 3
   },
   "file_extension": ".py",
   "mimetype": "text/x-python",
   "name": "python",
   "nbconvert_exporter": "python",
   "pygments_lexer": "ipython3",
   "version": "3.8.5"
  }
 },
 "nbformat": 4,
 "nbformat_minor": 4
}
