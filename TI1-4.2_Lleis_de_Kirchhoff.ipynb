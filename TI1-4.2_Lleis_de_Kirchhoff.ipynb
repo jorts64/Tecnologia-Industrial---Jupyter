{
 "cells": [
  {
   "cell_type": "markdown",
   "metadata": {},
   "source": [
    "# Lleis de Kirchhoff"
   ]
  },
  {
   "cell_type": "code",
   "execution_count": 4,
   "metadata": {},
   "outputs": [],
   "source": [
    "from sympy import *\n",
    "x, y, z = symbols(\"x y z\")"
   ]
  },
  {
   "cell_type": "markdown",
   "metadata": {},
   "source": [
    "## 1) \n",
    "Trobar $I_{1}$, $I_{2}$ i $I_{3}$    \n",
    "Dades: $R_{1} = 2 \\ \\Omega$, $R_{2} = 6 \\ \\Omega$, $R_{3} = 4 \\ \\Omega$. $\\mathcal{E}_{1} = 5 \\ V$, $\\mathcal{E}_{2} = 12 \\ V$ "
   ]
  },
  {
   "cell_type": "markdown",
   "metadata": {},
   "source": [
    "![](img/Kirchhoff1.png)"
   ]
  },
  {
   "cell_type": "code",
   "execution_count": 5,
   "metadata": {},
   "outputs": [
    {
     "data": {
      "text/plain": [
       "{x: 1/22, y: -13/11, z: -27/22}"
      ]
     },
     "execution_count": 5,
     "metadata": {},
     "output_type": "execute_result"
    }
   ],
   "source": [
    "solve([Eq(x+z-y, 0), Eq(6*y+2*x,-7 ), Eq(-4*z-6*y,12 )],[x,y,z])"
   ]
  },
  {
   "cell_type": "code",
   "execution_count": 6,
   "metadata": {},
   "outputs": [
    {
     "data": {
      "text/plain": [
       "(0.045454545454545456, -1.1818181818181819, -1.2272727272727273)"
      ]
     },
     "execution_count": 6,
     "metadata": {},
     "output_type": "execute_result"
    }
   ],
   "source": [
    "1/22, -13/11, -27/22"
   ]
  },
  {
   "cell_type": "markdown",
   "metadata": {},
   "source": [
    "## 2) \n",
    "Trobar $I_{1}$, $I_{2}$ i $I_{3}$    \n",
    "Dades: $R_{1} = 1 \\ \\Omega$, $R_{2} = 4 \\ \\Omega$, $R_{3} = 2 \\ \\Omega$. $\\mathcal{E}_{1} = 12 \\ V$, $\\mathcal{E}_{2} = 5 \\ V$, $\\mathcal{E}_{3} = 7 \\ V$, $r = 1 \\ \\Omega$ "
   ]
  },
  {
   "cell_type": "markdown",
   "metadata": {},
   "source": [
    "![](img/Kirchhoff2.png)"
   ]
  },
  {
   "cell_type": "code",
   "execution_count": 7,
   "metadata": {},
   "outputs": [
    {
     "data": {
      "text/plain": [
       "{x: 146/31, y: 47/31, z: -99/31}"
      ]
     },
     "execution_count": 7,
     "metadata": {},
     "output_type": "execute_result"
    }
   ],
   "source": [
    "solve([Eq(x+z-y, 0), Eq(5*y+2*x,17 ), Eq(-3*z-5*y,2 )],[x,y,z])"
   ]
  },
  {
   "cell_type": "code",
   "execution_count": 8,
   "metadata": {},
   "outputs": [
    {
     "data": {
      "text/plain": [
       "(4.709677419354839, 1.5161290322580645, -3.193548387096774)"
      ]
     },
     "execution_count": 8,
     "metadata": {},
     "output_type": "execute_result"
    }
   ],
   "source": [
    "146/31 , 47/31 , -99/31"
   ]
  },
  {
   "cell_type": "markdown",
   "metadata": {},
   "source": [
    "## 3) \n",
    "Trobar $I_{1}$, $I_{2}$ i $I_{3}$    \n",
    "Dades: $R_{1} = 10 \\ \\Omega$, $R_{2} = 3 \\ \\Omega$, $R_{3} = 6 \\ \\Omega$. $\\mathcal{E}_{1} = 5 \\ V$, $\\mathcal{E}_{2} = 6 \\ V$, $\\mathcal{E}_{3} = 12 \\ V$, $r_{1} = 1 \\ \\Omega$, $r_{2} = 3 \\ \\Omega$, $r_{3} = 2 \\ \\Omega$ "
   ]
  },
  {
   "cell_type": "markdown",
   "metadata": {},
   "source": [
    "![](img/Kirchhoff3.png)"
   ]
  },
  {
   "cell_type": "code",
   "execution_count": null,
   "metadata": {},
   "outputs": [],
   "source": []
  },
  {
   "cell_type": "markdown",
   "metadata": {},
   "source": [
    "## 4) \n",
    "Trobar $I_{1}$, $I_{2}$ i $I_{3}$    \n",
    "Dades: $R_{1} = 7 \\ \\Omega$, $R_{2} = 12 \\ \\Omega$, $R_{3} = 4 \\ \\Omega$. $\\mathcal{E}_{1} = 5 \\ V$, $\\mathcal{E}_{2} = 3 \\ V$, $\\mathcal{E}_{6} = 12 \\ V$, $\\mathcal{E}_{4} = 12 \\ V$"
   ]
  },
  {
   "cell_type": "markdown",
   "metadata": {},
   "source": [
    "![](img/Kirchhoff4.png)"
   ]
  },
  {
   "cell_type": "code",
   "execution_count": null,
   "metadata": {},
   "outputs": [],
   "source": []
  },
  {
   "cell_type": "markdown",
   "metadata": {},
   "source": [
    "## 5) \n",
    "Trobar $I_{1}$, $I_{2}$ i $I_{3}$    \n",
    "Dades: $R_{1} = 8 \\ \\Omega$, $R_{2} = 12 \\ \\Omega$, $R_{3} = 5 \\ \\Omega$, $R_{4} = 2 \\ \\Omega$. $\\mathcal{E}_{1} = 12 \\ V$, $\\mathcal{E}_{2} = 5 \\ V$, $\\mathcal{E}_{3} = 7 \\ V$, $r = 1 \\ \\Omega$"
   ]
  },
  {
   "cell_type": "markdown",
   "metadata": {},
   "source": [
    "![](img/Kirchhoff5.png)"
   ]
  },
  {
   "cell_type": "code",
   "execution_count": null,
   "metadata": {},
   "outputs": [],
   "source": []
  }
 ],
 "metadata": {
  "kernelspec": {
   "display_name": "Python 3",
   "language": "python",
   "name": "python3"
  },
  "language_info": {
   "codemirror_mode": {
    "name": "ipython",
    "version": 3
   },
   "file_extension": ".py",
   "mimetype": "text/x-python",
   "name": "python",
   "nbconvert_exporter": "python",
   "pygments_lexer": "ipython3",
   "version": "3.8.5"
  }
 },
 "nbformat": 4,
 "nbformat_minor": 4
}
