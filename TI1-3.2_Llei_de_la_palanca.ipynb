{
 "cells": [
  {
   "cell_type": "markdown",
   "metadata": {},
   "source": [
    "# Aliatges binaris: Llei de la palanca"
   ]
  },
  {
   "cell_type": "markdown",
   "metadata": {},
   "source": [
    "Quan tenim un aliatge a la zona de coexistència de fases, podem fàcilment conèixer la composició de la fase sòlida  $C_{\\alpha}$ i de la fase líquida $C_{L}$ buscant la intersecció de la isoterma amb les línies *liquidus* i *solidus* :"
   ]
  },
  {
   "cell_type": "markdown",
   "metadata": {},
   "source": [
    "![](img/LleiPalanca.png)"
   ]
  },
  {
   "cell_type": "markdown",
   "metadata": {},
   "source": [
    "Una mica més complicat és calcular quin percentatge de l'aliatge el tindrem en fase sòlida i en fase líquida. Fent una mica de càlcul arribem a la llei de la palanca:"
   ]
  },
  {
   "cell_type": "markdown",
   "metadata": {},
   "source": [
    "$W_{\\alpha} = \\frac{C_{0}-C_{L}}{C_{\\alpha}-C_{L}}$ \n",
    "\n",
    "\n",
    "$W_{L} = \\frac{C_{\\alpha}-C_{0}}{C_{\\alpha}-C_{L}}$"
   ]
  },
  {
   "cell_type": "markdown",
   "metadata": {},
   "source": [
    "## Exemple: aliatge Ni-Cu"
   ]
  },
  {
   "cell_type": "markdown",
   "metadata": {},
   "source": [
    "Si tenim un aliatge amb un 53% de Ni, a $1300$ $^{0}C$ tindrem coexistència de dos fases: una fase líquida amb un 45% de Ni i una sòlida amb un 58% de Ni "
   ]
  },
  {
   "cell_type": "markdown",
   "metadata": {},
   "source": [
    "![](img/CuNi.png)"
   ]
  },
  {
   "cell_type": "markdown",
   "metadata": {},
   "source": [
    "Calculem quin percentatge tindrem a cada fase:"
   ]
  },
  {
   "cell_type": "code",
   "execution_count": 4,
   "metadata": {},
   "outputs": [],
   "source": [
    "C0=0.53\n",
    "CL=0.45\n",
    "Calfa=0.58"
   ]
  },
  {
   "cell_type": "code",
   "execution_count": 13,
   "metadata": {},
   "outputs": [
    {
     "data": {
      "text/plain": [
       "0.6153846153846158"
      ]
     },
     "execution_count": 13,
     "metadata": {},
     "output_type": "execute_result"
    }
   ],
   "source": [
    "Walfa=(C0-CL)/(Calfa-CL)\n",
    "Walfa"
   ]
  },
  {
   "cell_type": "code",
   "execution_count": 12,
   "metadata": {
    "scrolled": true
   },
   "outputs": [
    {
     "data": {
      "text/plain": [
       "0.38461538461538425"
      ]
     },
     "execution_count": 12,
     "metadata": {},
     "output_type": "execute_result"
    }
   ],
   "source": [
    "WL=(Calfa-C0)/(Calfa-CL)\n",
    "WL"
   ]
  },
  {
   "cell_type": "markdown",
   "metadata": {},
   "source": [
    "Es a dir, tindrem un 61,5 % en fase sòlida i un 38,5 % en fase líquida"
   ]
  },
  {
   "cell_type": "markdown",
   "metadata": {},
   "source": [
    "### Crèdits"
   ]
  },
  {
   "cell_type": "markdown",
   "metadata": {},
   "source": [
    "Imatges estretes de [https://sites.google.com/site/federubiotecindbachillerato/home/2o-bachillerato/materiales/4-diagramas-de-equilibrio](https://sites.google.com/site/federubiotecindbachillerato/home/2o-bachillerato/materiales/4-diagramas-de-equilibrio)"
   ]
  },
  {
   "cell_type": "code",
   "execution_count": null,
   "metadata": {},
   "outputs": [],
   "source": []
  }
 ],
 "metadata": {
  "kernelspec": {
   "display_name": "Python 3",
   "language": "python",
   "name": "python3"
  },
  "language_info": {
   "codemirror_mode": {
    "name": "ipython",
    "version": 3
   },
   "file_extension": ".py",
   "mimetype": "text/x-python",
   "name": "python",
   "nbconvert_exporter": "python",
   "pygments_lexer": "ipython3",
   "version": "3.7.3"
  }
 },
 "nbformat": 4,
 "nbformat_minor": 4
}
