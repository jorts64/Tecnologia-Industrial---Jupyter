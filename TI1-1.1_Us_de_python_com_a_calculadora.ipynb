{
 "cells": [
  {
   "cell_type": "markdown",
   "metadata": {},
   "source": [
    "# Ús de python com a calculadora"
   ]
  },
  {
   "cell_type": "markdown",
   "metadata": {},
   "source": [
    "### PAU Tecnologia Industrial Convocatòria 2001 Sèrie 2 Opció A Problema 3\n",
    "\n",
    "![](http://www.jorts.net/PAU/dbase/img/2013-04-30-20-22-44.png)"
   ]
  },
  {
   "cell_type": "markdown",
   "metadata": {},
   "source": [
    "## a)\n",
    "\n",
    "Per a cada estufa:\n",
    "\n",
    "$P = I\\cdot U \\Rightarrow I=\\frac{P}{U}$"
   ]
  },
  {
   "cell_type": "code",
   "execution_count": 1,
   "metadata": {},
   "outputs": [
    {
     "name": "stdout",
     "output_type": "stream",
     "text": [
      "I= 1.3636363636363635\n"
     ]
    }
   ],
   "source": [
    "P=300\n",
    "U=220\n",
    "I=P/U\n",
    "print (\"I=\", I)"
   ]
  },
  {
   "cell_type": "markdown",
   "metadata": {},
   "source": [
    "Per tant, pel conjunt de les 12 estufes en paral·lel:"
   ]
  },
  {
   "cell_type": "code",
   "execution_count": 2,
   "metadata": {},
   "outputs": [
    {
     "name": "stdout",
     "output_type": "stream",
     "text": [
      "Itotal= 1.3636363636363635\n"
     ]
    }
   ],
   "source": [
    "It=12*I\n",
    "print (\"Itotal=\", I)"
   ]
  },
  {
   "cell_type": "markdown",
   "metadata": {},
   "source": [
    "## b)\n",
    "Per a cada estufa:\n",
    "\n",
    "$E=P \\cdot t$"
   ]
  },
  {
   "cell_type": "code",
   "execution_count": 3,
   "metadata": {},
   "outputs": [
    {
     "name": "stdout",
     "output_type": "stream",
     "text": [
      "E= 1500  W·h\n"
     ]
    }
   ],
   "source": [
    "t = 5\n",
    "E = P*t\n",
    "print(\"E=\",E,\" W·h\")"
   ]
  },
  {
   "cell_type": "markdown",
   "metadata": {},
   "source": [
    "Treballant amb kw·h:"
   ]
  },
  {
   "cell_type": "code",
   "execution_count": 4,
   "metadata": {},
   "outputs": [
    {
     "name": "stdout",
     "output_type": "stream",
     "text": [
      "E= 1.5  kW·h\n"
     ]
    }
   ],
   "source": [
    "E = E/1000\n",
    "print(\"E=\",E,\" kW·h\")"
   ]
  },
  {
   "cell_type": "markdown",
   "metadata": {},
   "source": [
    "Pel conjunt de les 12 estufes"
   ]
  },
  {
   "cell_type": "code",
   "execution_count": 5,
   "metadata": {},
   "outputs": [
    {
     "name": "stdout",
     "output_type": "stream",
     "text": [
      "Etotal= 18.0  kW·h\n"
     ]
    }
   ],
   "source": [
    "Etotal = 12*E\n",
    "print(\"Etotal=\",Etotal,\" kW·h\")"
   ]
  },
  {
   "cell_type": "markdown",
   "metadata": {},
   "source": [
    "I per tant el cost serà"
   ]
  },
  {
   "cell_type": "code",
   "execution_count": 6,
   "metadata": {},
   "outputs": [
    {
     "name": "stdout",
     "output_type": "stream",
     "text": [
      "cost= 1.44  EUR\n"
     ]
    }
   ],
   "source": [
    "c=0.08\n",
    "cost = Etotal*c\n",
    "print(\"cost=\",cost,\" EUR\")"
   ]
  },
  {
   "cell_type": "markdown",
   "metadata": {},
   "source": [
    "## c)\n",
    "\n",
    "Si treballem a 125 V, només la resistència de cada estufa es manté respecte el cas anterior. Haurem de calcular quin era el seu valor a la situació inicial:\n",
    "\n",
    "$I=\\frac{U}{R} \\Rightarrow R=\\frac{U}{I}$"
   ]
  },
  {
   "cell_type": "code",
   "execution_count": 7,
   "metadata": {},
   "outputs": [
    {
     "data": {
      "text/plain": [
       "161.33333333333334"
      ]
     },
     "execution_count": 7,
     "metadata": {},
     "output_type": "execute_result"
    }
   ],
   "source": [
    "R=U/I\n",
    "R"
   ]
  },
  {
   "cell_type": "markdown",
   "metadata": {},
   "source": [
    "Aquest valor de R serà el mateix per a la nova situació:"
   ]
  },
  {
   "cell_type": "code",
   "execution_count": 8,
   "metadata": {},
   "outputs": [
    {
     "name": "stdout",
     "output_type": "stream",
     "text": [
      "A 125V cada estufa té una potència de  96.849173553719  W\n"
     ]
    }
   ],
   "source": [
    "U=125\n",
    "I=U/R\n",
    "P=I*U\n",
    "print (\"A 125V cada estufa té una potència de \", P, \" W\")"
   ]
  }
 ],
 "metadata": {
  "kernelspec": {
   "display_name": "Python 3",
   "language": "python",
   "name": "python3"
  },
  "language_info": {
   "codemirror_mode": {
    "name": "ipython",
    "version": 3
   },
   "file_extension": ".py",
   "mimetype": "text/x-python",
   "name": "python",
   "nbconvert_exporter": "python",
   "pygments_lexer": "ipython3",
   "version": "3.7.3"
  }
 },
 "nbformat": 4,
 "nbformat_minor": 4
}
