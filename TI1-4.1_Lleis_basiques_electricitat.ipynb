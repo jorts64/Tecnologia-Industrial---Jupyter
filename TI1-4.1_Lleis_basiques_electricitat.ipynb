{
 "cells": [
  {
   "cell_type": "markdown",
   "metadata": {},
   "source": [
    "# Lleis bàsiques de l'electricitat"
   ]
  },
  {
   "cell_type": "markdown",
   "metadata": {},
   "source": [
    "## Llei d'Ohm\n",
    "\n",
    "$$I = \\frac{U}{R}$$\n",
    "\n",
    "## Efecte Joule\n",
    "\n",
    "$$P = U \\cdot I$$ "
   ]
  },
  {
   "cell_type": "markdown",
   "metadata": {},
   "source": [
    "## Associacions de resistències\n",
    "\n",
    "### Resistències en sèrie\n",
    "\n",
    "$R = \\sum R_i$\n",
    "\n",
    "### Resistències en paral·lel\n",
    "\n",
    "$\\frac{1}{R} = \\sum \\frac{1}{R_i}$"
   ]
  },
  {
   "cell_type": "code",
   "execution_count": null,
   "metadata": {},
   "outputs": [],
   "source": []
  }
 ],
 "metadata": {
  "kernelspec": {
   "display_name": "Python 3",
   "language": "python",
   "name": "python3"
  },
  "language_info": {
   "codemirror_mode": {
    "name": "ipython",
    "version": 3
   },
   "file_extension": ".py",
   "mimetype": "text/x-python",
   "name": "python",
   "nbconvert_exporter": "python",
   "pygments_lexer": "ipython3",
   "version": "3.8.5"
  }
 },
 "nbformat": 4,
 "nbformat_minor": 4
}
