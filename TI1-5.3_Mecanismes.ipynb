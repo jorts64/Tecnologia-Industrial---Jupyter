{
 "cells": [
  {
   "cell_type": "markdown",
   "metadata": {},
   "source": [
    "# Mecanismes"
   ]
  },
  {
   "cell_type": "markdown",
   "metadata": {},
   "source": [
    "## Mecanismes de transmissió del moviment"
   ]
  },
  {
   "cell_type": "markdown",
   "metadata": {},
   "source": [
    "No es canvia lel tipus de moviment, però s'aconsegueix un canvi en la direcció, sentit o velocitat.\n",
    "\n",
    "### Relació de transmissió\n",
    "\n",
    "La relació de transmissió $\\tau$ indica el nombre de voltes que fa l'eix conduït (sortida) per cada volta de l'eix motriu (entrada). Dividint pel temps:\n",
    "\n",
    "$\\tau = \\frac {\\omega_2}{\\omega_1}$\n",
    "\n",
    "on $\\omega_1$ és la velocitat angular de l'eix motriu i $\\omega_2$ la de l'eix conduït.\n",
    "\n",
    "Típicament aquesta ràtio és inversa a la mida dels components: quan més grans, més lents van. Això s'aplica a engranatges, transmissió de cadena (per exemple a una bicicleta), discs de fricció ..."
   ]
  },
  {
   "cell_type": "markdown",
   "metadata": {},
   "source": [
    "## Cardan\n",
    "\n",
    "Només canvia la direcció de l'eix de gir. \n",
    "\n",
    "$\\tau = 1$\n",
    "\n",
    "![](img/Universal_joint.gif)\n",
    "\n",
    "By Van helsing - Treball propi, CC BY 2.5, <https://commons.wikimedia.org/w/index.php?curid=1499089>"
   ]
  },
  {
   "cell_type": "markdown",
   "metadata": {},
   "source": [
    "## Engranatges\n",
    "\n",
    "![](img/Gears_animation.gif)\n",
    "\n",
    "S'inverteix el sentit de gir\n",
    "\n",
    "$\\tau = \\frac{z_1}{z_2}$\n",
    "\n",
    "on $z_1$ és el nombre de dents de l'engranatge motriu i $z_2$ el nombre de dents de l'engranatge conduït.\n",
    "\n",
    "Si volem canviar la direcció de l'eix de gir 90° podem utilitzar engranatges cònics.\n",
    "\n",
    "![](img/Gear-kegelzahnrad.svg)"
   ]
  },
  {
   "cell_type": "markdown",
   "metadata": {},
   "source": [
    "### Càlcul del Moment\n",
    "\n",
    "$P_2 = \\eta \\cdot P_1$\n",
    "\n",
    "$\\Gamma_2 \\cdot \\omega_2= \\eta \\cdot \\Gamma_1 \\cdot \\omega_1$\n",
    "\n",
    "$\\Gamma_2 = \\eta \\cdot \\Gamma_1 \\cdot \\frac{\\omega_1}{\\omega_2}$\n",
    "\n",
    "$\\Gamma_2 = \\frac{\\eta}{\\tau} \\cdot \\Gamma_1$"
   ]
  },
  {
   "cell_type": "markdown",
   "metadata": {},
   "source": [
    "## Cargol sense fi\n",
    "\n",
    "![](img/Worm_Gear.gif)\n",
    "\n",
    "$n_1 \\cdot e_1 = n_2 \\cdot Z_2$\n",
    "\n",
    "on $n_i$ són les velocitats angulars, $Z_2$ el nombre de dents de la roda conduida i $e_1$ el nombre d'helix del cargol.\n",
    "\n",
    "Per tant, la relació de transmissió val\n",
    "\n",
    "$\\tau = \\frac{e_1}{Z_2}$\n",
    "\n",
    "Es tracta d'un mecanisme reductor molt potent "
   ]
  },
  {
   "cell_type": "markdown",
   "metadata": {},
   "source": [
    "### Engranatges planetaris\n",
    "\n",
    "Són sistemes molt compactes, flexibles i més complexos. Segons bloquegem l'engranatge central (planetari), l'engranatge més extern (anular o corona) o els satèlits intermitjos canvia el seu comportament:\n",
    "\n",
    "<table>\n",
    "<tr>\n",
    "<td>\n",
    "    <img src=\"img/Epicyclic_Gearing_Direct_Drive.gif\"\n",
    "    </td>\n",
    "<td>\n",
    "    <img src=\"img/Epicyclic_Gearing_Stationary_Carrier.gif\"\n",
    "    </td>\n",
    "    </tr>\n",
    "<tr>\n",
    "<td>\n",
    "    <img src=\"img/Epicyclic_Gearing_Stationary_Ring.gif\"\n",
    "    </td>\n",
    "<td>\n",
    "    <img src=\"img/Epicyclic_Gearing_Stationary_Sun.gif\"\n",
    "    </td>\n",
    "</tr>\n",
    "</table>\n",
    "\n",
    "\n"
   ]
  },
  {
   "cell_type": "markdown",
   "metadata": {},
   "source": [
    "### Mecanisme diferencial\n",
    "\n",
    "Justament basat en el bloqueig dels engranatges planetaris, permet que les rodes del cotxe girin a diferent velocitat quan agafem una corba. \n",
    "\n",
    "![](img/Differential_(Manual_of_Driving_and_Maintenance).jpg)"
   ]
  },
  {
   "cell_type": "markdown",
   "metadata": {},
   "source": [
    "## Mecanismes de transformació del moviment"
   ]
  },
  {
   "cell_type": "markdown",
   "metadata": {},
   "source": [
    "El tipus de moviment generat no es el mateix que el motriu"
   ]
  },
  {
   "cell_type": "markdown",
   "metadata": {},
   "source": [
    "### Cargol / femella\n",
    "\n",
    "Transforma un moviment circular en linial. Molt utilitzat en impressores 3D i d'altres màquines de precissió.\n",
    "\n",
    "Si fem una volta la femella avança el pas *p*\n",
    "\n",
    "$v = \\omega \\cdot \\frac{p}{2\\pi}$\n",
    "\n",
    "![](img/GearBoxRotLinScrew.gif)\n",
    "\n",
    "By W.Rebel - Own work, CC BY 3.0, <https://commons.wikimedia.org/w/index.php?curid=7931115>"
   ]
  },
  {
   "cell_type": "markdown",
   "metadata": {},
   "source": [
    "### Pinyó / cremallera\n",
    "\n",
    "Com en una volta el pinyó avança $z$ dents amb pas $p$\n",
    "\n",
    "$v = z \\cdot p \\cdot \\frac{\\omega}{2\\pi}$\n",
    "\n",
    "![](img/Rack_and_pinion_animation.gif)"
   ]
  },
  {
   "cell_type": "markdown",
   "metadata": {},
   "source": [
    "### Lleva i excèntrica\n",
    "\n",
    "![](img/Nockenwelle_ani.gif)"
   ]
  },
  {
   "cell_type": "markdown",
   "metadata": {},
   "source": [
    "### Biela / manovella\n",
    "\n",
    "Transforma el moviment alternatiu en circular i viceversa. Utilitzat als motors de combustió interna i moltes altres màquines.\n",
    "\n",
    "![](img/Cshaft_18_frame.gif)"
   ]
  },
  {
   "cell_type": "markdown",
   "metadata": {},
   "source": [
    "### Creu de malta\n",
    "\n",
    "Encara que el moviment conduït també és circular, és de caràcter intermitent. Utilitzat en projectors de cinema, cintes de transport a fàbriques automàtiques, armes a avions d'hèlix ...\n",
    "\n",
    "![](img/Geneva_mechanism_6spoke_animation.gif)"
   ]
  },
  {
   "cell_type": "markdown",
   "metadata": {},
   "source": [
    "### Mecanisme de quatre baules\n",
    "\n",
    "<table>\n",
    "    <tr>\n",
    "        <td><img src=\"img/CrankRocker1_speedVector.gif\">\n",
    "        </td>\n",
    "        <td><img src=\"img/DeltoidLinkage1_speedVector.gif\">\n",
    "        </td>\n",
    "        <td><img src=\"img/DragLink1_speedVector.gif\">\n",
    "        </td>\n",
    "    </tr>\n",
    "    <tr>\n",
    "        <td><img src=\"img/DoubleRocker1_speedVector.gif\">\n",
    "        </td>\n",
    "        <td><img src=\"img/DoubleRocker2_speedVector.gif\">\n",
    "        </td>\n",
    "        <td><img src=\"img/DoubleRocker3_speedVector.gif\">\n",
    "        </td>\n",
    "    </tr>\n",
    "</table>\n",
    "    "
   ]
  },
  {
   "cell_type": "code",
   "execution_count": null,
   "metadata": {},
   "outputs": [],
   "source": []
  }
 ],
 "metadata": {
  "kernelspec": {
   "display_name": "Python 3",
   "language": "python",
   "name": "python3"
  },
  "language_info": {
   "codemirror_mode": {
    "name": "ipython",
    "version": 3
   },
   "file_extension": ".py",
   "mimetype": "text/x-python",
   "name": "python",
   "nbconvert_exporter": "python",
   "pygments_lexer": "ipython3",
   "version": "3.8.5"
  }
 },
 "nbformat": 4,
 "nbformat_minor": 4
}
