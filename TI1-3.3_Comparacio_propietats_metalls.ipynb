{
 "cells": [
  {
   "cell_type": "markdown",
   "metadata": {},
   "source": [
    "# Comparació propietats dels metalls"
   ]
  },
  {
   "cell_type": "code",
   "execution_count": 1,
   "metadata": {},
   "outputs": [],
   "source": [
    "%matplotlib inline\n",
    "import matplotlib.pyplot as plt\n",
    "import numpy as np\n",
    "import pandas as pd"
   ]
  },
  {
   "cell_type": "code",
   "execution_count": 2,
   "metadata": {},
   "outputs": [
    {
     "data": {
      "text/html": [
       "<div>\n",
       "<style scoped>\n",
       "    .dataframe tbody tr th:only-of-type {\n",
       "        vertical-align: middle;\n",
       "    }\n",
       "\n",
       "    .dataframe tbody tr th {\n",
       "        vertical-align: top;\n",
       "    }\n",
       "\n",
       "    .dataframe thead th {\n",
       "        text-align: right;\n",
       "    }\n",
       "</style>\n",
       "<table border=\"1\" class=\"dataframe\">\n",
       "  <thead>\n",
       "    <tr style=\"text-align: right;\">\n",
       "      <th></th>\n",
       "      <th>Nom</th>\n",
       "      <th>Densitat</th>\n",
       "      <th>Punt de fusió</th>\n",
       "      <th>Conductivitat tèrmica</th>\n",
       "      <th>Dilatació tèrmica</th>\n",
       "      <th>Mòdul elàstic</th>\n",
       "      <th>Límit elàstic</th>\n",
       "      <th>Resistència al trencament</th>\n",
       "      <th>Allargament</th>\n",
       "      <th>Duresa</th>\n",
       "      <th>Resistivitat</th>\n",
       "    </tr>\n",
       "  </thead>\n",
       "  <tbody>\n",
       "    <tr>\n",
       "      <th>0</th>\n",
       "      <td>Cu</td>\n",
       "      <td>8.960</td>\n",
       "      <td>1084.62</td>\n",
       "      <td>401.0</td>\n",
       "      <td>16.5</td>\n",
       "      <td>110</td>\n",
       "      <td>69.00</td>\n",
       "      <td>220.0</td>\n",
       "      <td>45</td>\n",
       "      <td>874.0</td>\n",
       "      <td>16.78</td>\n",
       "    </tr>\n",
       "    <tr>\n",
       "      <th>1</th>\n",
       "      <td>Al</td>\n",
       "      <td>2.700</td>\n",
       "      <td>660.32</td>\n",
       "      <td>237.0</td>\n",
       "      <td>23.1</td>\n",
       "      <td>70</td>\n",
       "      <td>17.00</td>\n",
       "      <td>55.0</td>\n",
       "      <td>25</td>\n",
       "      <td>245.0</td>\n",
       "      <td>28.20</td>\n",
       "    </tr>\n",
       "    <tr>\n",
       "      <th>2</th>\n",
       "      <td>Mg</td>\n",
       "      <td>1.738</td>\n",
       "      <td>650.00</td>\n",
       "      <td>156.0</td>\n",
       "      <td>24.8</td>\n",
       "      <td>45</td>\n",
       "      <td>41.00</td>\n",
       "      <td>165.0</td>\n",
       "      <td>6</td>\n",
       "      <td>260.0</td>\n",
       "      <td>43.90</td>\n",
       "    </tr>\n",
       "    <tr>\n",
       "      <th>3</th>\n",
       "      <td>Ti</td>\n",
       "      <td>4.506</td>\n",
       "      <td>1670.00</td>\n",
       "      <td>21.9</td>\n",
       "      <td>8.6</td>\n",
       "      <td>116</td>\n",
       "      <td>240.00</td>\n",
       "      <td>330.0</td>\n",
       "      <td>30</td>\n",
       "      <td>716.0</td>\n",
       "      <td>420.00</td>\n",
       "    </tr>\n",
       "    <tr>\n",
       "      <th>4</th>\n",
       "      <td>Pb</td>\n",
       "      <td>11.340</td>\n",
       "      <td>327.46</td>\n",
       "      <td>35.3</td>\n",
       "      <td>28.9</td>\n",
       "      <td>16</td>\n",
       "      <td>3.50</td>\n",
       "      <td>19.6</td>\n",
       "      <td>50</td>\n",
       "      <td>38.3</td>\n",
       "      <td>208.00</td>\n",
       "    </tr>\n",
       "    <tr>\n",
       "      <th>5</th>\n",
       "      <td>Sn</td>\n",
       "      <td>7.365</td>\n",
       "      <td>231.93</td>\n",
       "      <td>66.8</td>\n",
       "      <td>22.0</td>\n",
       "      <td>50</td>\n",
       "      <td>2.55</td>\n",
       "      <td>34.3</td>\n",
       "      <td>40</td>\n",
       "      <td>350.0</td>\n",
       "      <td>115.00</td>\n",
       "    </tr>\n",
       "    <tr>\n",
       "      <th>6</th>\n",
       "      <td>Zn</td>\n",
       "      <td>7.140</td>\n",
       "      <td>419.53</td>\n",
       "      <td>116.0</td>\n",
       "      <td>30.2</td>\n",
       "      <td>108</td>\n",
       "      <td>7.00</td>\n",
       "      <td>117.0</td>\n",
       "      <td>32</td>\n",
       "      <td>412.0</td>\n",
       "      <td>59.00</td>\n",
       "    </tr>\n",
       "    <tr>\n",
       "      <th>7</th>\n",
       "      <td>Ni</td>\n",
       "      <td>8.908</td>\n",
       "      <td>1455.00</td>\n",
       "      <td>90.9</td>\n",
       "      <td>13.4</td>\n",
       "      <td>200</td>\n",
       "      <td>138.00</td>\n",
       "      <td>483.0</td>\n",
       "      <td>40</td>\n",
       "      <td>700.0</td>\n",
       "      <td>69.30</td>\n",
       "    </tr>\n",
       "    <tr>\n",
       "      <th>8</th>\n",
       "      <td>Fe</td>\n",
       "      <td>7.874</td>\n",
       "      <td>1538.00</td>\n",
       "      <td>80.4</td>\n",
       "      <td>11.8</td>\n",
       "      <td>211</td>\n",
       "      <td>130.00</td>\n",
       "      <td>260.0</td>\n",
       "      <td>45</td>\n",
       "      <td>490.0</td>\n",
       "      <td>96.10</td>\n",
       "    </tr>\n",
       "  </tbody>\n",
       "</table>\n",
       "</div>"
      ],
      "text/plain": [
       "  Nom  Densitat  Punt de fusió  Conductivitat tèrmica  Dilatació tèrmica  \\\n",
       "0  Cu     8.960        1084.62                  401.0               16.5   \n",
       "1  Al     2.700         660.32                  237.0               23.1   \n",
       "2  Mg     1.738         650.00                  156.0               24.8   \n",
       "3  Ti     4.506        1670.00                   21.9                8.6   \n",
       "4  Pb    11.340         327.46                   35.3               28.9   \n",
       "5  Sn     7.365         231.93                   66.8               22.0   \n",
       "6  Zn     7.140         419.53                  116.0               30.2   \n",
       "7  Ni     8.908        1455.00                   90.9               13.4   \n",
       "8  Fe     7.874        1538.00                   80.4               11.8   \n",
       "\n",
       "   Mòdul elàstic  Límit elàstic  Resistència al trencament  Allargament  \\\n",
       "0            110          69.00                      220.0           45   \n",
       "1             70          17.00                       55.0           25   \n",
       "2             45          41.00                      165.0            6   \n",
       "3            116         240.00                      330.0           30   \n",
       "4             16           3.50                       19.6           50   \n",
       "5             50           2.55                       34.3           40   \n",
       "6            108           7.00                      117.0           32   \n",
       "7            200         138.00                      483.0           40   \n",
       "8            211         130.00                      260.0           45   \n",
       "\n",
       "   Duresa  Resistivitat  \n",
       "0   874.0         16.78  \n",
       "1   245.0         28.20  \n",
       "2   260.0         43.90  \n",
       "3   716.0        420.00  \n",
       "4    38.3        208.00  \n",
       "5   350.0        115.00  \n",
       "6   412.0         59.00  \n",
       "7   700.0         69.30  \n",
       "8   490.0         96.10  "
      ]
     },
     "execution_count": 2,
     "metadata": {},
     "output_type": "execute_result"
    }
   ],
   "source": [
    "# Dades de la Wikipèdia, excepte Límit elàstic, Resistència al trencament i Allargament.\n",
    "# Buscant una font més fiable que el llibre de McGraw-Hill, està ple d'errades\n",
    "\n",
    "df = pd.DataFrame({\n",
    "    'Nom':['Cu','Al','Mg','Ti','Pb','Sn','Zn','Ni','Fe'],\n",
    "# densitat ρ [10³·kg/m³]   \n",
    "    'Densitat':[8.96,2.70,1.738,4.506,11.34,7.365,7.14,8.908,7.874],\n",
    "# punt de fusió [⁰C]    \n",
    "    'Punt de fusió':[1084.62,660.32,650,1670,327.46,231.93,419.53,1455,1538],\n",
    "# conductivitat tèrmica ϰ [W/m·⁰C]    \n",
    "    'Conductivitat tèrmica':[401,237,156,21.9,35.3,66.8,116,90.9,80.4],\n",
    "# Dilatació tèrmica λ [10⁻⁶·K⁻¹]\n",
    "    'Dilatació tèrmica':[16.5,23.1,24.8,8.6,28.9,22,30.2,13.4,11.8],\n",
    "# mòdul elàstic E [GPa]    \n",
    "    'Mòdul elàstic':[110,70,45,116,16,50,108,200,211],\n",
    "# límit elàstic σe [MPa]    \n",
    "    'Límit elàstic':[69,17,41,240,3.5,2.55,7,138,130],\n",
    "# Resistència al trencament R [MPa]    \n",
    "    'Resistència al trencament':[220,55,165,330,19.6,34.3,117,483,260],\n",
    "# Allargament ε [%]    \n",
    "    'Allargament':[45,25,6,30,50,40,32,40,45],\n",
    "# Duresa HB  [MPa]  \n",
    "    'Duresa':[874,245,260,716,38.3,350,412,700,490],\n",
    "# Resistivitat elèctrica [10⁻⁹·Ω·m]    \n",
    "    'Resistivitat':[16.78,28.2,43.9,420,208,115,59,69.3,96.1]\n",
    "})\n",
    "df"
   ]
  },
  {
   "cell_type": "markdown",
   "metadata": {},
   "source": [
    "## Densitat"
   ]
  },
  {
   "cell_type": "code",
   "execution_count": 3,
   "metadata": {
    "scrolled": true
   },
   "outputs": [
    {
     "data": {
      "text/plain": [
       "Text(0, 0.5, 'ρ  [10³·kg/m³]')"
      ]
     },
     "execution_count": 3,
     "metadata": {},
     "output_type": "execute_result"
    },
    {
     "data": {
      "image/png": "[encoded data removed]",
      "text/plain": [
       "<Figure size 432x288 with 1 Axes>"
      ]
     },
     "metadata": {
      "needs_background": "light"
     },
     "output_type": "display_data"
    }
   ],
   "source": [
    "df.plot(kind='bar',x='Nom',y='Densitat')\n",
    "plt.ylabel('ρ  [10³·kg/m³]')"
   ]
  },
  {
   "cell_type": "markdown",
   "metadata": {},
   "source": [
    "Fixeu-vos en la baixa densitat de l'alumni i el magnesi. Els aliatges de l'alumini reben el nom d'*aliatges lleugers*, i els de magnesi d'*aliatges ultralleugers*.   \n",
    "Per altra banda fixeu-vos l'alta densitat del plom. D'aquí el seu ús a projectils, llastres per bussos o plomades."
   ]
  },
  {
   "cell_type": "markdown",
   "metadata": {},
   "source": [
    "## Temperatura de fusió"
   ]
  },
  {
   "cell_type": "code",
   "execution_count": 4,
   "metadata": {},
   "outputs": [
    {
     "data": {
      "text/plain": [
       "Text(0, 0.5, 'Tf  [⁰C]')"
      ]
     },
     "execution_count": 4,
     "metadata": {},
     "output_type": "execute_result"
    },
    {
     "data": {
      "image/png": "[encoded data removed]",
      "text/plain": [
       "<Figure size 432x288 with 1 Axes>"
      ]
     },
     "metadata": {
      "needs_background": "light"
     },
     "output_type": "display_data"
    }
   ],
   "source": [
    "df.plot(kind='bar',x='Nom',y='Punt de fusió')\n",
    "plt.ylabel('Tf  [⁰C]')"
   ]
  },
  {
   "cell_type": "markdown",
   "metadata": {},
   "source": [
    "La baixa temperatura de fusió de l'estany i el plom justifiquen el seu ús a soldadures i fusibles. "
   ]
  },
  {
   "cell_type": "markdown",
   "metadata": {},
   "source": [
    "## Conductivitat tèrmica"
   ]
  },
  {
   "cell_type": "code",
   "execution_count": 5,
   "metadata": {},
   "outputs": [
    {
     "data": {
      "text/plain": [
       "Text(0, 0.5, 'ϰ  [W/m·⁰C]')"
      ]
     },
     "execution_count": 5,
     "metadata": {},
     "output_type": "execute_result"
    },
    {
     "data": {
      "image/png": "[encoded data removed]",
      "text/plain": [
       "<Figure size 432x288 with 1 Axes>"
      ]
     },
     "metadata": {
      "needs_background": "light"
     },
     "output_type": "display_data"
    }
   ],
   "source": [
    "df.plot(kind='bar',x='Nom',y='Conductivitat tèrmica')\n",
    "plt.ylabel('ϰ  [W/m·⁰C]')"
   ]
  },
  {
   "cell_type": "markdown",
   "metadata": {},
   "source": [
    "L'alta conductivitat tèrmica del coure justifica el seu ús a recipients per a cuinar aliments."
   ]
  },
  {
   "cell_type": "markdown",
   "metadata": {},
   "source": [
    "## Dilatació tèrmica"
   ]
  },
  {
   "cell_type": "code",
   "execution_count": 6,
   "metadata": {},
   "outputs": [
    {
     "data": {
      "text/plain": [
       "Text(0, 0.5, 'λ  [K⁻¹]')"
      ]
     },
     "execution_count": 6,
     "metadata": {},
     "output_type": "execute_result"
    },
    {
     "data": {
      "image/png": "[encoded data removed]",
      "text/plain": [
       "<Figure size 432x288 with 1 Axes>"
      ]
     },
     "metadata": {
      "needs_background": "light"
     },
     "output_type": "display_data"
    }
   ],
   "source": [
    "df.plot(kind='bar',x='Nom',y='Dilatació tèrmica')\n",
    "plt.ylabel('λ  [K⁻¹]')"
   ]
  },
  {
   "cell_type": "markdown",
   "metadata": {},
   "source": [
    "## Mòdul elàstic"
   ]
  },
  {
   "cell_type": "code",
   "execution_count": 7,
   "metadata": {},
   "outputs": [
    {
     "data": {
      "text/plain": [
       "Text(0, 0.5, 'σ  [MPa]')"
      ]
     },
     "execution_count": 7,
     "metadata": {},
     "output_type": "execute_result"
    },
    {
     "data": {
      "image/png": "[encoded data removed]",
      "text/plain": [
       "<Figure size 432x288 with 1 Axes>"
      ]
     },
     "metadata": {
      "needs_background": "light"
     },
     "output_type": "display_data"
    }
   ],
   "source": [
    "df.plot(kind='bar',x='Nom',y='Mòdul elàstic')\n",
    "plt.ylabel('σ  [MPa]')"
   ]
  },
  {
   "cell_type": "markdown",
   "metadata": {},
   "source": [
    "## Límit elàstic"
   ]
  },
  {
   "cell_type": "code",
   "execution_count": 8,
   "metadata": {
    "scrolled": true
   },
   "outputs": [
    {
     "data": {
      "text/plain": [
       "Text(0, 0.5, 'σe [MPa]')"
      ]
     },
     "execution_count": 8,
     "metadata": {},
     "output_type": "execute_result"
    },
    {
     "data": {
      "image/png": "[encoded data removed]",
      "text/plain": [
       "<Figure size 432x288 with 1 Axes>"
      ]
     },
     "metadata": {
      "needs_background": "light"
     },
     "output_type": "display_data"
    }
   ],
   "source": [
    "df.plot(kind='bar',x='Nom',y='Límit elàstic')\n",
    "plt.ylabel('σe [MPa]')"
   ]
  },
  {
   "cell_type": "markdown",
   "metadata": {},
   "source": [
    "El límit elàstic del titani, juntament amb la seva baixa densitat, justifiquen el seu ús a estructures aeroespacials, ulleres ..."
   ]
  },
  {
   "cell_type": "markdown",
   "metadata": {},
   "source": [
    "## Resistència al trencament"
   ]
  },
  {
   "cell_type": "code",
   "execution_count": 9,
   "metadata": {},
   "outputs": [
    {
     "data": {
      "text/plain": [
       "Text(0, 0.5, 'R  [MPa]')"
      ]
     },
     "execution_count": 9,
     "metadata": {},
     "output_type": "execute_result"
    },
    {
     "data": {
      "image/png": "[encoded data removed]",
      "text/plain": [
       "<Figure size 432x288 with 1 Axes>"
      ]
     },
     "metadata": {
      "needs_background": "light"
     },
     "output_type": "display_data"
    }
   ],
   "source": [
    "df.plot(kind='bar',x='Nom',y='Resistència al trencament')\n",
    "plt.ylabel('R  [MPa]')"
   ]
  },
  {
   "cell_type": "markdown",
   "metadata": {},
   "source": [
    "## Allargament"
   ]
  },
  {
   "cell_type": "code",
   "execution_count": 10,
   "metadata": {},
   "outputs": [
    {
     "data": {
      "text/plain": [
       "Text(0, 0.5, 'ε  [%]')"
      ]
     },
     "execution_count": 10,
     "metadata": {},
     "output_type": "execute_result"
    },
    {
     "data": {
      "image/png": "[encoded data removed]",
      "text/plain": [
       "<Figure size 432x288 with 1 Axes>"
      ]
     },
     "metadata": {
      "needs_background": "light"
     },
     "output_type": "display_data"
    }
   ],
   "source": [
    "df.plot(kind='bar',x='Nom',y='Allargament')\n",
    "plt.ylabel('ε  [%]')"
   ]
  },
  {
   "cell_type": "markdown",
   "metadata": {},
   "source": [
    "Molts d'aquest metalls són molt dúctils, degut a la possibilitat d'una alta deformàció plàstica"
   ]
  },
  {
   "cell_type": "markdown",
   "metadata": {},
   "source": [
    "## Duresa"
   ]
  },
  {
   "cell_type": "code",
   "execution_count": 11,
   "metadata": {},
   "outputs": [
    {
     "data": {
      "text/plain": [
       "Text(0, 0.5, 'HB  [MPa]')"
      ]
     },
     "execution_count": 11,
     "metadata": {},
     "output_type": "execute_result"
    },
    {
     "data": {
      "image/png": "[encoded data removed]",
      "text/plain": [
       "<Figure size 432x288 with 1 Axes>"
      ]
     },
     "metadata": {
      "needs_background": "light"
     },
     "output_type": "display_data"
    }
   ],
   "source": [
    "df.plot(kind='bar',x='Nom',y='Duresa')\n",
    "plt.ylabel('HB  [MPa]')"
   ]
  },
  {
   "cell_type": "markdown",
   "metadata": {},
   "source": [
    "## Resistivitat elèctrica"
   ]
  },
  {
   "cell_type": "code",
   "execution_count": 12,
   "metadata": {},
   "outputs": [
    {
     "data": {
      "text/plain": [
       "Text(0, 0.5, 'ρ  [10⁻⁹·Ω·m]')"
      ]
     },
     "execution_count": 12,
     "metadata": {},
     "output_type": "execute_result"
    },
    {
     "data": {
      "image/png": "[encoded data removed]",
      "text/plain": [
       "<Figure size 432x288 with 1 Axes>"
      ]
     },
     "metadata": {
      "needs_background": "light"
     },
     "output_type": "display_data"
    }
   ],
   "source": [
    "df.plot(kind='bar',x='Nom',y='Resistivitat')\n",
    "plt.ylabel('ρ  [10⁻⁹·Ω·m]')"
   ]
  },
  {
   "cell_type": "markdown",
   "metadata": {},
   "source": [
    "La baixa resistivitat del coure i l'alumini, juntament amb la seva ductibilitat, justifiquen el seu ús a cables elèctrics. L'alumini és molt més lleuger, per això s'utilitza a xarxes d'alta tensió, alleugerant la càrrega de l'estructura de la torre."
   ]
  },
  {
   "cell_type": "markdown",
   "metadata": {},
   "source": [
    "# Efecte de la densitat en la propietat"
   ]
  },
  {
   "cell_type": "markdown",
   "metadata": {},
   "source": [
    "## Relació resistència mecànica / pes"
   ]
  },
  {
   "cell_type": "code",
   "execution_count": 13,
   "metadata": {
    "scrolled": true
   },
   "outputs": [
    {
     "data": {
      "text/html": [
       "<div>\n",
       "<style scoped>\n",
       "    .dataframe tbody tr th:only-of-type {\n",
       "        vertical-align: middle;\n",
       "    }\n",
       "\n",
       "    .dataframe tbody tr th {\n",
       "        vertical-align: top;\n",
       "    }\n",
       "\n",
       "    .dataframe thead th {\n",
       "        text-align: right;\n",
       "    }\n",
       "</style>\n",
       "<table border=\"1\" class=\"dataframe\">\n",
       "  <thead>\n",
       "    <tr style=\"text-align: right;\">\n",
       "      <th></th>\n",
       "      <th>Nom</th>\n",
       "      <th>Densitat</th>\n",
       "      <th>Punt de fusió</th>\n",
       "      <th>Conductivitat tèrmica</th>\n",
       "      <th>Dilatació tèrmica</th>\n",
       "      <th>Mòdul elàstic</th>\n",
       "      <th>Límit elàstic</th>\n",
       "      <th>Resistència al trencament</th>\n",
       "      <th>Allargament</th>\n",
       "      <th>Duresa</th>\n",
       "      <th>Resistivitat</th>\n",
       "      <th>Relació Resistència/pes</th>\n",
       "    </tr>\n",
       "  </thead>\n",
       "  <tbody>\n",
       "    <tr>\n",
       "      <th>0</th>\n",
       "      <td>Cu</td>\n",
       "      <td>8.960</td>\n",
       "      <td>1084.62</td>\n",
       "      <td>401.0</td>\n",
       "      <td>16.5</td>\n",
       "      <td>110</td>\n",
       "      <td>69.00</td>\n",
       "      <td>220.0</td>\n",
       "      <td>45</td>\n",
       "      <td>874.0</td>\n",
       "      <td>16.78</td>\n",
       "      <td>7.700893</td>\n",
       "    </tr>\n",
       "    <tr>\n",
       "      <th>1</th>\n",
       "      <td>Al</td>\n",
       "      <td>2.700</td>\n",
       "      <td>660.32</td>\n",
       "      <td>237.0</td>\n",
       "      <td>23.1</td>\n",
       "      <td>70</td>\n",
       "      <td>17.00</td>\n",
       "      <td>55.0</td>\n",
       "      <td>25</td>\n",
       "      <td>245.0</td>\n",
       "      <td>28.20</td>\n",
       "      <td>6.296296</td>\n",
       "    </tr>\n",
       "    <tr>\n",
       "      <th>2</th>\n",
       "      <td>Mg</td>\n",
       "      <td>1.738</td>\n",
       "      <td>650.00</td>\n",
       "      <td>156.0</td>\n",
       "      <td>24.8</td>\n",
       "      <td>45</td>\n",
       "      <td>41.00</td>\n",
       "      <td>165.0</td>\n",
       "      <td>6</td>\n",
       "      <td>260.0</td>\n",
       "      <td>43.90</td>\n",
       "      <td>23.590334</td>\n",
       "    </tr>\n",
       "    <tr>\n",
       "      <th>3</th>\n",
       "      <td>Ti</td>\n",
       "      <td>4.506</td>\n",
       "      <td>1670.00</td>\n",
       "      <td>21.9</td>\n",
       "      <td>8.6</td>\n",
       "      <td>116</td>\n",
       "      <td>240.00</td>\n",
       "      <td>330.0</td>\n",
       "      <td>30</td>\n",
       "      <td>716.0</td>\n",
       "      <td>420.00</td>\n",
       "      <td>53.262317</td>\n",
       "    </tr>\n",
       "    <tr>\n",
       "      <th>4</th>\n",
       "      <td>Pb</td>\n",
       "      <td>11.340</td>\n",
       "      <td>327.46</td>\n",
       "      <td>35.3</td>\n",
       "      <td>28.9</td>\n",
       "      <td>16</td>\n",
       "      <td>3.50</td>\n",
       "      <td>19.6</td>\n",
       "      <td>50</td>\n",
       "      <td>38.3</td>\n",
       "      <td>208.00</td>\n",
       "      <td>0.308642</td>\n",
       "    </tr>\n",
       "    <tr>\n",
       "      <th>5</th>\n",
       "      <td>Sn</td>\n",
       "      <td>7.365</td>\n",
       "      <td>231.93</td>\n",
       "      <td>66.8</td>\n",
       "      <td>22.0</td>\n",
       "      <td>50</td>\n",
       "      <td>2.55</td>\n",
       "      <td>34.3</td>\n",
       "      <td>40</td>\n",
       "      <td>350.0</td>\n",
       "      <td>115.00</td>\n",
       "      <td>0.346232</td>\n",
       "    </tr>\n",
       "    <tr>\n",
       "      <th>6</th>\n",
       "      <td>Zn</td>\n",
       "      <td>7.140</td>\n",
       "      <td>419.53</td>\n",
       "      <td>116.0</td>\n",
       "      <td>30.2</td>\n",
       "      <td>108</td>\n",
       "      <td>7.00</td>\n",
       "      <td>117.0</td>\n",
       "      <td>32</td>\n",
       "      <td>412.0</td>\n",
       "      <td>59.00</td>\n",
       "      <td>0.980392</td>\n",
       "    </tr>\n",
       "    <tr>\n",
       "      <th>7</th>\n",
       "      <td>Ni</td>\n",
       "      <td>8.908</td>\n",
       "      <td>1455.00</td>\n",
       "      <td>90.9</td>\n",
       "      <td>13.4</td>\n",
       "      <td>200</td>\n",
       "      <td>138.00</td>\n",
       "      <td>483.0</td>\n",
       "      <td>40</td>\n",
       "      <td>700.0</td>\n",
       "      <td>69.30</td>\n",
       "      <td>15.491693</td>\n",
       "    </tr>\n",
       "    <tr>\n",
       "      <th>8</th>\n",
       "      <td>Fe</td>\n",
       "      <td>7.874</td>\n",
       "      <td>1538.00</td>\n",
       "      <td>80.4</td>\n",
       "      <td>11.8</td>\n",
       "      <td>211</td>\n",
       "      <td>130.00</td>\n",
       "      <td>260.0</td>\n",
       "      <td>45</td>\n",
       "      <td>490.0</td>\n",
       "      <td>96.10</td>\n",
       "      <td>16.510033</td>\n",
       "    </tr>\n",
       "  </tbody>\n",
       "</table>\n",
       "</div>"
      ],
      "text/plain": [
       "  Nom  Densitat  Punt de fusió  Conductivitat tèrmica  Dilatació tèrmica  \\\n",
       "0  Cu     8.960        1084.62                  401.0               16.5   \n",
       "1  Al     2.700         660.32                  237.0               23.1   \n",
       "2  Mg     1.738         650.00                  156.0               24.8   \n",
       "3  Ti     4.506        1670.00                   21.9                8.6   \n",
       "4  Pb    11.340         327.46                   35.3               28.9   \n",
       "5  Sn     7.365         231.93                   66.8               22.0   \n",
       "6  Zn     7.140         419.53                  116.0               30.2   \n",
       "7  Ni     8.908        1455.00                   90.9               13.4   \n",
       "8  Fe     7.874        1538.00                   80.4               11.8   \n",
       "\n",
       "   Mòdul elàstic  Límit elàstic  Resistència al trencament  Allargament  \\\n",
       "0            110          69.00                      220.0           45   \n",
       "1             70          17.00                       55.0           25   \n",
       "2             45          41.00                      165.0            6   \n",
       "3            116         240.00                      330.0           30   \n",
       "4             16           3.50                       19.6           50   \n",
       "5             50           2.55                       34.3           40   \n",
       "6            108           7.00                      117.0           32   \n",
       "7            200         138.00                      483.0           40   \n",
       "8            211         130.00                      260.0           45   \n",
       "\n",
       "   Duresa  Resistivitat  Relació Resistència/pes  \n",
       "0   874.0         16.78                 7.700893  \n",
       "1   245.0         28.20                 6.296296  \n",
       "2   260.0         43.90                23.590334  \n",
       "3   716.0        420.00                53.262317  \n",
       "4    38.3        208.00                 0.308642  \n",
       "5   350.0        115.00                 0.346232  \n",
       "6   412.0         59.00                 0.980392  \n",
       "7   700.0         69.30                15.491693  \n",
       "8   490.0         96.10                16.510033  "
      ]
     },
     "execution_count": 13,
     "metadata": {},
     "output_type": "execute_result"
    }
   ],
   "source": [
    "rho=df['Densitat']\n",
    "df[\"Relació Resistència/pes\"]= df[\"Límit elàstic\"].div(other = rho) \n",
    "df"
   ]
  },
  {
   "cell_type": "markdown",
   "metadata": {},
   "source": [
    "El titani és el que presenta de llarg la millor característica, com ja comentaven abans."
   ]
  },
  {
   "cell_type": "markdown",
   "metadata": {},
   "source": [
    "## Producte resistivitat·densitat"
   ]
  },
  {
   "cell_type": "code",
   "execution_count": 14,
   "metadata": {},
   "outputs": [
    {
     "data": {
      "text/html": [
       "<div>\n",
       "<style scoped>\n",
       "    .dataframe tbody tr th:only-of-type {\n",
       "        vertical-align: middle;\n",
       "    }\n",
       "\n",
       "    .dataframe tbody tr th {\n",
       "        vertical-align: top;\n",
       "    }\n",
       "\n",
       "    .dataframe thead th {\n",
       "        text-align: right;\n",
       "    }\n",
       "</style>\n",
       "<table border=\"1\" class=\"dataframe\">\n",
       "  <thead>\n",
       "    <tr style=\"text-align: right;\">\n",
       "      <th></th>\n",
       "      <th>Nom</th>\n",
       "      <th>Densitat</th>\n",
       "      <th>Punt de fusió</th>\n",
       "      <th>Conductivitat tèrmica</th>\n",
       "      <th>Dilatació tèrmica</th>\n",
       "      <th>Mòdul elàstic</th>\n",
       "      <th>Límit elàstic</th>\n",
       "      <th>Resistència al trencament</th>\n",
       "      <th>Allargament</th>\n",
       "      <th>Duresa</th>\n",
       "      <th>Resistivitat</th>\n",
       "      <th>Relació Resistència/pes</th>\n",
       "      <th>Producte Resistivitat·densitat</th>\n",
       "    </tr>\n",
       "  </thead>\n",
       "  <tbody>\n",
       "    <tr>\n",
       "      <th>0</th>\n",
       "      <td>Cu</td>\n",
       "      <td>8.960</td>\n",
       "      <td>1084.62</td>\n",
       "      <td>401.0</td>\n",
       "      <td>16.5</td>\n",
       "      <td>110</td>\n",
       "      <td>69.00</td>\n",
       "      <td>220.0</td>\n",
       "      <td>45</td>\n",
       "      <td>874.0</td>\n",
       "      <td>16.78</td>\n",
       "      <td>7.700893</td>\n",
       "      <td>150.3488</td>\n",
       "    </tr>\n",
       "    <tr>\n",
       "      <th>1</th>\n",
       "      <td>Al</td>\n",
       "      <td>2.700</td>\n",
       "      <td>660.32</td>\n",
       "      <td>237.0</td>\n",
       "      <td>23.1</td>\n",
       "      <td>70</td>\n",
       "      <td>17.00</td>\n",
       "      <td>55.0</td>\n",
       "      <td>25</td>\n",
       "      <td>245.0</td>\n",
       "      <td>28.20</td>\n",
       "      <td>6.296296</td>\n",
       "      <td>76.1400</td>\n",
       "    </tr>\n",
       "    <tr>\n",
       "      <th>2</th>\n",
       "      <td>Mg</td>\n",
       "      <td>1.738</td>\n",
       "      <td>650.00</td>\n",
       "      <td>156.0</td>\n",
       "      <td>24.8</td>\n",
       "      <td>45</td>\n",
       "      <td>41.00</td>\n",
       "      <td>165.0</td>\n",
       "      <td>6</td>\n",
       "      <td>260.0</td>\n",
       "      <td>43.90</td>\n",
       "      <td>23.590334</td>\n",
       "      <td>76.2982</td>\n",
       "    </tr>\n",
       "    <tr>\n",
       "      <th>3</th>\n",
       "      <td>Ti</td>\n",
       "      <td>4.506</td>\n",
       "      <td>1670.00</td>\n",
       "      <td>21.9</td>\n",
       "      <td>8.6</td>\n",
       "      <td>116</td>\n",
       "      <td>240.00</td>\n",
       "      <td>330.0</td>\n",
       "      <td>30</td>\n",
       "      <td>716.0</td>\n",
       "      <td>420.00</td>\n",
       "      <td>53.262317</td>\n",
       "      <td>1892.5200</td>\n",
       "    </tr>\n",
       "    <tr>\n",
       "      <th>4</th>\n",
       "      <td>Pb</td>\n",
       "      <td>11.340</td>\n",
       "      <td>327.46</td>\n",
       "      <td>35.3</td>\n",
       "      <td>28.9</td>\n",
       "      <td>16</td>\n",
       "      <td>3.50</td>\n",
       "      <td>19.6</td>\n",
       "      <td>50</td>\n",
       "      <td>38.3</td>\n",
       "      <td>208.00</td>\n",
       "      <td>0.308642</td>\n",
       "      <td>2358.7200</td>\n",
       "    </tr>\n",
       "    <tr>\n",
       "      <th>5</th>\n",
       "      <td>Sn</td>\n",
       "      <td>7.365</td>\n",
       "      <td>231.93</td>\n",
       "      <td>66.8</td>\n",
       "      <td>22.0</td>\n",
       "      <td>50</td>\n",
       "      <td>2.55</td>\n",
       "      <td>34.3</td>\n",
       "      <td>40</td>\n",
       "      <td>350.0</td>\n",
       "      <td>115.00</td>\n",
       "      <td>0.346232</td>\n",
       "      <td>846.9750</td>\n",
       "    </tr>\n",
       "    <tr>\n",
       "      <th>6</th>\n",
       "      <td>Zn</td>\n",
       "      <td>7.140</td>\n",
       "      <td>419.53</td>\n",
       "      <td>116.0</td>\n",
       "      <td>30.2</td>\n",
       "      <td>108</td>\n",
       "      <td>7.00</td>\n",
       "      <td>117.0</td>\n",
       "      <td>32</td>\n",
       "      <td>412.0</td>\n",
       "      <td>59.00</td>\n",
       "      <td>0.980392</td>\n",
       "      <td>421.2600</td>\n",
       "    </tr>\n",
       "    <tr>\n",
       "      <th>7</th>\n",
       "      <td>Ni</td>\n",
       "      <td>8.908</td>\n",
       "      <td>1455.00</td>\n",
       "      <td>90.9</td>\n",
       "      <td>13.4</td>\n",
       "      <td>200</td>\n",
       "      <td>138.00</td>\n",
       "      <td>483.0</td>\n",
       "      <td>40</td>\n",
       "      <td>700.0</td>\n",
       "      <td>69.30</td>\n",
       "      <td>15.491693</td>\n",
       "      <td>617.3244</td>\n",
       "    </tr>\n",
       "    <tr>\n",
       "      <th>8</th>\n",
       "      <td>Fe</td>\n",
       "      <td>7.874</td>\n",
       "      <td>1538.00</td>\n",
       "      <td>80.4</td>\n",
       "      <td>11.8</td>\n",
       "      <td>211</td>\n",
       "      <td>130.00</td>\n",
       "      <td>260.0</td>\n",
       "      <td>45</td>\n",
       "      <td>490.0</td>\n",
       "      <td>96.10</td>\n",
       "      <td>16.510033</td>\n",
       "      <td>756.6914</td>\n",
       "    </tr>\n",
       "  </tbody>\n",
       "</table>\n",
       "</div>"
      ],
      "text/plain": [
       "  Nom  Densitat  Punt de fusió  Conductivitat tèrmica  Dilatació tèrmica  \\\n",
       "0  Cu     8.960        1084.62                  401.0               16.5   \n",
       "1  Al     2.700         660.32                  237.0               23.1   \n",
       "2  Mg     1.738         650.00                  156.0               24.8   \n",
       "3  Ti     4.506        1670.00                   21.9                8.6   \n",
       "4  Pb    11.340         327.46                   35.3               28.9   \n",
       "5  Sn     7.365         231.93                   66.8               22.0   \n",
       "6  Zn     7.140         419.53                  116.0               30.2   \n",
       "7  Ni     8.908        1455.00                   90.9               13.4   \n",
       "8  Fe     7.874        1538.00                   80.4               11.8   \n",
       "\n",
       "   Mòdul elàstic  Límit elàstic  Resistència al trencament  Allargament  \\\n",
       "0            110          69.00                      220.0           45   \n",
       "1             70          17.00                       55.0           25   \n",
       "2             45          41.00                      165.0            6   \n",
       "3            116         240.00                      330.0           30   \n",
       "4             16           3.50                       19.6           50   \n",
       "5             50           2.55                       34.3           40   \n",
       "6            108           7.00                      117.0           32   \n",
       "7            200         138.00                      483.0           40   \n",
       "8            211         130.00                      260.0           45   \n",
       "\n",
       "   Duresa  Resistivitat  Relació Resistència/pes  \\\n",
       "0   874.0         16.78                 7.700893   \n",
       "1   245.0         28.20                 6.296296   \n",
       "2   260.0         43.90                23.590334   \n",
       "3   716.0        420.00                53.262317   \n",
       "4    38.3        208.00                 0.308642   \n",
       "5   350.0        115.00                 0.346232   \n",
       "6   412.0         59.00                 0.980392   \n",
       "7   700.0         69.30                15.491693   \n",
       "8   490.0         96.10                16.510033   \n",
       "\n",
       "   Producte Resistivitat·densitat  \n",
       "0                        150.3488  \n",
       "1                         76.1400  \n",
       "2                         76.2982  \n",
       "3                       1892.5200  \n",
       "4                       2358.7200  \n",
       "5                        846.9750  \n",
       "6                        421.2600  \n",
       "7                        617.3244  \n",
       "8                        756.6914  "
      ]
     },
     "execution_count": 14,
     "metadata": {},
     "output_type": "execute_result"
    }
   ],
   "source": [
    "df[\"Producte Resistivitat·densitat\"]= df[\"Resistivitat\"].mul(other = rho) \n",
    "df"
   ]
  },
  {
   "cell_type": "markdown",
   "metadata": {},
   "source": [
    "Per a un cable de resistència $R$, llargada $L$ i secció fixades, la massa del cable té l'expressió, en funció de la resistivitat $\\rho$ i densitat $d$ del material amb que està fet:   \n",
    "$M = \\frac{\\rho}{R} · L^2·d$   \n",
    "Per tant, quan més baix el producte $\\rho · d$ més lleuger el cable i menys esforç ha de suportar l'estructura que manté elevat el cable. Com veieu, l'alumni és millor candidat que el coure en aquest cas."
   ]
  },
  {
   "cell_type": "code",
   "execution_count": null,
   "metadata": {},
   "outputs": [],
   "source": []
  }
 ],
 "metadata": {
  "kernelspec": {
   "display_name": "Python 3",
   "language": "python",
   "name": "python3"
  },
  "language_info": {
   "codemirror_mode": {
    "name": "ipython",
    "version": 3
   },
   "file_extension": ".py",
   "mimetype": "text/x-python",
   "name": "python",
   "nbconvert_exporter": "python",
   "pygments_lexer": "ipython3",
   "version": "3.7.3"
  }
 },
 "nbformat": 4,
 "nbformat_minor": 4
}
