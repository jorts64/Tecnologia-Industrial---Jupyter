{
 "cells": [
  {
   "cell_type": "markdown",
   "metadata": {},
   "source": [
    "# Xocs inelàstics"
   ]
  },
  {
   "cell_type": "markdown",
   "metadata": {},
   "source": [
    "1. Dos cotxes amb massa m= 1000 kg circulen a 60 km/h i xoquen frontalment, quedant aturats. Calculeu   \n",
    " a) L'energia alliberada en forma de calor per a cada cotxe.   \n",
    " b) Els temps de frenada si els frens a cada cotxe exerceixen una força constant F = 4 kN   \n",
    " c) L'espai recorregut en aquesta frenada   \n",
    " d) Repetiu els apartats anteriors si la velocitat fos el doble (120 km/h) "
   ]
  },
  {
   "cell_type": "markdown",
   "metadata": {},
   "source": [
    "## Solució"
   ]
  },
  {
   "cell_type": "markdown",
   "metadata": {},
   "source": [
    "Veiem que podem fer amb el que sabem de teoria. \n",
    "\n",
    "A l'apartat *(a)* es tracta d'un xoc inelàstic amb velocitat final = 0 m/s on tota l'energia cinètica es dissipa en forma de calor:\n",
    "\n",
    "$Q = \\Delta E = Ec(v=v0)$   \n",
    "\n",
    "$Ec = \\frac{1}{2} \\cdot m \\cdot v^{2}$\n",
    "\n",
    "A l'apartat *(b)* tenim un M.U.A. amb acceleració negativa que acaba al repòs:\n",
    "\n",
    "$F = m \\cdot a \\Rightarrow  a = \\frac{F}{m}$\n",
    "\n",
    "$v = v_{0} + a \\cdot t$\n",
    "\n",
    "$\\Delta r = v_{0} \\cdot t + \\frac{1}{2}\\cdot a \\cdot t^{2}$\n",
    "\n",
    "Per tant, sembla que introduïnt les dades a les fòrmules tenim resolt el nostre problema\n",
    "\n",
    "Anem a la pràctica ..."
   ]
  },
  {
   "cell_type": "markdown",
   "metadata": {},
   "source": [
    "### Treballant amb unitats a python. La llibreria *pint*"
   ]
  },
  {
   "cell_type": "markdown",
   "metadata": {},
   "source": [
    "La llibreria *pint* ens permet treballar amb unitats, fer conversions i donar més rigor als càlculs   \n",
    "Teniu un bon tutorial a https://pint.readthedocs.io/en/0.13/tutorial.html"
   ]
  },
  {
   "cell_type": "code",
   "execution_count": 4,
   "metadata": {},
   "outputs": [],
   "source": [
    "from pint import UnitRegistry\n",
    "ureg = UnitRegistry()\n",
    "m = 1000 * ureg.kg\n",
    "v0 = 60 * ureg.km / ureg.hour"
   ]
  },
  {
   "cell_type": "markdown",
   "metadata": {},
   "source": [
    "El primer pas seria tenir les dades en Sistema Internacional. Fixeu-vos que la llibreria *pint* s'encarrega d'això.   \n",
    "Si bé v0 el tenim en $\\frac{km}{h}$"
   ]
  },
  {
   "cell_type": "code",
   "execution_count": 5,
   "metadata": {},
   "outputs": [
    {
     "data": {
      "text/html": [
       "60.0 kilometer/hour"
      ],
      "text/latex": [
       "$60.0\\ \\frac{\\mathrm{kilometer}}{\\mathrm{hour}}$"
      ],
      "text/plain": [
       "60.0 <Unit('kilometer / hour')>"
      ]
     },
     "execution_count": 5,
     "metadata": {},
     "output_type": "execute_result"
    }
   ],
   "source": [
    "v0"
   ]
  },
  {
   "cell_type": "markdown",
   "metadata": {},
   "source": [
    "Sempre podem convertir una dada al Sistema Internacional amb `.ito_base_units()`"
   ]
  },
  {
   "cell_type": "code",
   "execution_count": 6,
   "metadata": {},
   "outputs": [
    {
     "data": {
      "text/html": [
       "16.666666666666668 meter/second"
      ],
      "text/latex": [
       "$16.666666666666668\\ \\frac{\\mathrm{meter}}{\\mathrm{second}}$"
      ],
      "text/plain": [
       "16.666666666666668 <Unit('meter / second')>"
      ]
     },
     "execution_count": 6,
     "metadata": {},
     "output_type": "execute_result"
    }
   ],
   "source": [
    "v0.ito_base_units()\n",
    "v0"
   ]
  },
  {
   "cell_type": "markdown",
   "metadata": {},
   "source": [
    "Podem millorar l'expressió gestionan el format de sortida:"
   ]
  },
  {
   "cell_type": "code",
   "execution_count": 7,
   "metadata": {
    "scrolled": true
   },
   "outputs": [
    {
     "data": {
      "text/plain": [
       "'Velocitat inicial en S.I: 16.666666666666668 m/s'"
      ]
     },
     "execution_count": 7,
     "metadata": {},
     "output_type": "execute_result"
    }
   ],
   "source": [
    "'Velocitat inicial en S.I: {:P~}'.format(v0)"
   ]
  },
  {
   "cell_type": "markdown",
   "metadata": {},
   "source": [
    "Si haguessim fet nosaltres mateixos la conversió obtindriam el mateix valor:"
   ]
  },
  {
   "cell_type": "code",
   "execution_count": 8,
   "metadata": {},
   "outputs": [
    {
     "data": {
      "text/html": [
       "16.666666666666668 meter/second"
      ],
      "text/latex": [
       "$16.666666666666668\\ \\frac{\\mathrm{meter}}{\\mathrm{second}}$"
      ],
      "text/plain": [
       "16.666666666666668 <Unit('meter / second')>"
      ]
     },
     "execution_count": 8,
     "metadata": {},
     "output_type": "execute_result"
    }
   ],
   "source": [
    "v0 = 60 * ureg.km / ureg.hour\n",
    "v0 = v0 * 1000 * ureg.m / ureg.km * ureg.hour / (3600 * ureg.s)\n",
    "v0"
   ]
  },
  {
   "cell_type": "markdown",
   "metadata": {},
   "source": [
    "Encara que de vegades haurem de forçar la simplificació d'uniotats amb `ito_reduced_units()` (veure https://pint.readthedocs.io/en/0.13/tutorial.html#converting-quantities)"
   ]
  },
  {
   "cell_type": "code",
   "execution_count": 9,
   "metadata": {},
   "outputs": [
    {
     "name": "stdout",
     "output_type": "stream",
     "text": [
      "14.0 cubic_centimeter * gram / centimeter ** 3\n"
     ]
    }
   ],
   "source": [
    "density = 1.4 * ureg.gram / ureg.cm**3\n",
    "volume = 10*ureg.cc\n",
    "mass = density*volume\n",
    "print(mass)"
   ]
  },
  {
   "cell_type": "code",
   "execution_count": 10,
   "metadata": {},
   "outputs": [
    {
     "data": {
      "text/html": [
       "14.0 gram"
      ],
      "text/latex": [
       "$14.0\\ \\mathrm{gram}$"
      ],
      "text/plain": [
       "14.0 <Unit('gram')>"
      ]
     },
     "execution_count": 10,
     "metadata": {},
     "output_type": "execute_result"
    }
   ],
   "source": [
    "mass.ito_reduced_units()\n",
    "mass"
   ]
  },
  {
   "cell_type": "markdown",
   "metadata": {},
   "source": [
    "Ara que sabem com treballar amb unitats a python ens podrem dedicar a resoldre el nostre problema"
   ]
  },
  {
   "cell_type": "markdown",
   "metadata": {},
   "source": [
    "### a) L'energia alliberada en forma de calor per a cada cotxe.  "
   ]
  },
  {
   "cell_type": "markdown",
   "metadata": {},
   "source": [
    "Ara ja podem calcular la energia cinética de cada cotxe $Ec=\\frac{1}{2}\\cdot m\\cdot v^{2}$"
   ]
  },
  {
   "cell_type": "code",
   "execution_count": 11,
   "metadata": {},
   "outputs": [
    {
     "data": {
      "text/html": [
       "138888.8888888889 kilogram meter<sup>2</sup>/second<sup>2</sup>"
      ],
      "text/latex": [
       "$138888.8888888889\\ \\frac{\\mathrm{kilogram} \\cdot \\mathrm{meter}^{2}}{\\mathrm{second}^{2}}$"
      ],
      "text/plain": [
       "138888.8888888889 <Unit('kilogram * meter ** 2 / second ** 2')>"
      ]
     },
     "execution_count": 11,
     "metadata": {},
     "output_type": "execute_result"
    }
   ],
   "source": [
    "Ec=1/2*m*v0**2\n",
    "Ec"
   ]
  },
  {
   "cell_type": "markdown",
   "metadata": {},
   "source": [
    "Naturalment l'energia es mesura en J. Podem fer el canvi amb `.ito(ureg.J)`"
   ]
  },
  {
   "cell_type": "code",
   "execution_count": 12,
   "metadata": {},
   "outputs": [
    {
     "data": {
      "text/html": [
       "138888.8888888889 joule"
      ],
      "text/latex": [
       "$138888.8888888889\\ \\mathrm{joule}$"
      ],
      "text/plain": [
       "138888.8888888889 <Unit('joule')>"
      ]
     },
     "execution_count": 12,
     "metadata": {},
     "output_type": "execute_result"
    }
   ],
   "source": [
    "Ec.ito(ureg.J)\n",
    "Ec"
   ]
  },
  {
   "cell_type": "markdown",
   "metadata": {},
   "source": [
    "I tenir-la amb un múltiple adient. *pint* ho pot fer amb `.to_compact`"
   ]
  },
  {
   "cell_type": "code",
   "execution_count": 13,
   "metadata": {},
   "outputs": [
    {
     "name": "stdout",
     "output_type": "stream",
     "text": [
      "138.8888888888889 kilojoule\n"
     ]
    }
   ],
   "source": [
    "print (Ec.to_compact())"
   ]
  },
  {
   "cell_type": "markdown",
   "metadata": {},
   "source": [
    "Que justament és alliberada en forma de calor per a cada cotxe   \n",
    "\n",
    "L'expresió correcta d'aquest resultat seria **Q = 138,8 kJ**"
   ]
  },
  {
   "cell_type": "markdown",
   "metadata": {},
   "source": [
    "### b) Els temps de frenada si els frens a cada cotxe exerceixen una força constant F = 4 kN   "
   ]
  },
  {
   "cell_type": "markdown",
   "metadata": {},
   "source": [
    "Com la força de frenada s'oposa a la velocitat tindrà signe negatiu:"
   ]
  },
  {
   "cell_type": "code",
   "execution_count": 14,
   "metadata": {},
   "outputs": [
    {
     "data": {
      "text/html": [
       "-0.004 kilonewton/kilogram"
      ],
      "text/latex": [
       "$-0.004\\ \\frac{\\mathrm{kilonewton}}{\\mathrm{kilogram}}$"
      ],
      "text/plain": [
       "-0.004 <Unit('kilonewton / kilogram')>"
      ]
     },
     "execution_count": 14,
     "metadata": {},
     "output_type": "execute_result"
    }
   ],
   "source": [
    "F =  -4 * ureg.kN\n",
    "a = F / m\n",
    "a"
   ]
  },
  {
   "cell_type": "markdown",
   "metadata": {},
   "source": [
    "Ho arreglem amb `.ito_base_units()`"
   ]
  },
  {
   "cell_type": "code",
   "execution_count": 15,
   "metadata": {},
   "outputs": [
    {
     "data": {
      "text/html": [
       "-4.0 meter/second<sup>2</sup>"
      ],
      "text/latex": [
       "$-4.0\\ \\frac{\\mathrm{meter}}{\\mathrm{second}^{2}}$"
      ],
      "text/plain": [
       "-4.0 <Unit('meter / second ** 2')>"
      ]
     },
     "execution_count": 15,
     "metadata": {},
     "output_type": "execute_result"
    }
   ],
   "source": [
    "a.ito_base_units()\n",
    "a"
   ]
  },
  {
   "cell_type": "code",
   "execution_count": 16,
   "metadata": {},
   "outputs": [
    {
     "data": {
      "text/html": [
       "4.166666666666667 second"
      ],
      "text/latex": [
       "$4.166666666666667\\ \\mathrm{second}$"
      ],
      "text/plain": [
       "4.166666666666667 <Unit('second')>"
      ]
     },
     "execution_count": 16,
     "metadata": {},
     "output_type": "execute_result"
    }
   ],
   "source": [
    "t = (0 * ureg.m / ureg.s - v0) / a\n",
    "t"
   ]
  },
  {
   "cell_type": "markdown",
   "metadata": {},
   "source": [
    "Per tant tindrem un tems de frenada **t = 4,167 s** "
   ]
  },
  {
   "cell_type": "markdown",
   "metadata": {},
   "source": [
    "### c) L'espai recorregut en aquesta frenada   "
   ]
  },
  {
   "cell_type": "code",
   "execution_count": 17,
   "metadata": {},
   "outputs": [
    {
     "data": {
      "text/html": [
       "34.72222222222223 meter"
      ],
      "text/latex": [
       "$34.72222222222223\\ \\mathrm{meter}$"
      ],
      "text/plain": [
       "34.72222222222223 <Unit('meter')>"
      ]
     },
     "execution_count": 17,
     "metadata": {},
     "output_type": "execute_result"
    }
   ],
   "source": [
    "r = v0 * t + 1 / 2 * a *t**2\n",
    "r"
   ]
  },
  {
   "cell_type": "markdown",
   "metadata": {},
   "source": [
    "Es a dir, l'espai recorregut en aquesta frenada derà de **r = 34,72 m**"
   ]
  },
  {
   "cell_type": "markdown",
   "metadata": {},
   "source": [
    "### d) Repetiu els apartats anteriors si la velocitat fos el doble (120 km/h) "
   ]
  },
  {
   "cell_type": "markdown",
   "metadata": {},
   "source": [
    "Podem repetir les fòrmules, canviant el valor inicial de v0:"
   ]
  },
  {
   "cell_type": "code",
   "execution_count": 18,
   "metadata": {},
   "outputs": [
    {
     "data": {
      "text/html": [
       "33.333333333333336 meter/second"
      ],
      "text/latex": [
       "$33.333333333333336\\ \\frac{\\mathrm{meter}}{\\mathrm{second}}$"
      ],
      "text/plain": [
       "33.333333333333336 <Unit('meter / second')>"
      ]
     },
     "execution_count": 18,
     "metadata": {},
     "output_type": "execute_result"
    }
   ],
   "source": [
    "v0 = 120 * ureg.km / ureg.hour\n",
    "v0.ito_base_units()\n",
    "v0"
   ]
  },
  {
   "cell_type": "code",
   "execution_count": 19,
   "metadata": {},
   "outputs": [
    {
     "name": "stdout",
     "output_type": "stream",
     "text": [
      "555.5555555555557 kilojoule\n"
     ]
    }
   ],
   "source": [
    "Ec=1/2*m*v0**2\n",
    "Ec.ito(ureg.J)\n",
    "print (Ec.to_compact())"
   ]
  },
  {
   "cell_type": "markdown",
   "metadata": {},
   "source": [
    "**a) Q' = 555,6 kJ**"
   ]
  },
  {
   "cell_type": "code",
   "execution_count": 20,
   "metadata": {},
   "outputs": [
    {
     "data": {
      "text/html": [
       "8.333333333333334 second"
      ],
      "text/latex": [
       "$8.333333333333334\\ \\mathrm{second}$"
      ],
      "text/plain": [
       "8.333333333333334 <Unit('second')>"
      ]
     },
     "execution_count": 20,
     "metadata": {},
     "output_type": "execute_result"
    }
   ],
   "source": [
    "t = (0 * ureg.m / ureg.s - v0) / a\n",
    "t"
   ]
  },
  {
   "cell_type": "markdown",
   "metadata": {},
   "source": [
    "**b) t' = 8,333 s**"
   ]
  },
  {
   "cell_type": "code",
   "execution_count": 21,
   "metadata": {},
   "outputs": [
    {
     "data": {
      "text/html": [
       "138.8888888888889 meter"
      ],
      "text/latex": [
       "$138.8888888888889\\ \\mathrm{meter}$"
      ],
      "text/plain": [
       "138.8888888888889 <Unit('meter')>"
      ]
     },
     "execution_count": 21,
     "metadata": {},
     "output_type": "execute_result"
    }
   ],
   "source": [
    "r = v0 * t + 1 / 2 * a *t**2\n",
    "r"
   ]
  },
  {
   "cell_type": "markdown",
   "metadata": {},
   "source": [
    "**c) r = 138,9 m**"
   ]
  },
  {
   "cell_type": "markdown",
   "metadata": {},
   "source": [
    "## Conclusions"
   ]
  },
  {
   "cell_type": "markdown",
   "metadata": {},
   "source": [
    "Comparem resultats:\n",
    "\n",
    "<table>\n",
    "<tbody>\n",
    "<tr><td>v0</td><td>Q</td><td>t</td><td>r</td></tr>\n",
    "<tr><td>60 km/h</td><td>138,8 kJ</td><td>4,167 s</td><td>34,72 m</td></tr>\n",
    "<tr><td>120 km/h</td><td>555,8 kJ</td><td>8,333 s</td><td>138,9 m</td></tr>\n",
    "</tbody>\n",
    "</table>\n"
   ]
  },
  {
   "cell_type": "markdown",
   "metadata": {},
   "source": [
    "Si bé el temps s'ha duplicat com la velocitat inicial, la calor dissipada i la distància recorreguda s'han multiplicat per 4. Això és degut a la depèndencia quadràtica de **Q** i **r** amb la velocitat inicial. El temps **t**, en canvi, té una dependència linial amb **v0**\n",
    "\n",
    "Veiem gràficament aquestes dependències:"
   ]
  },
  {
   "cell_type": "code",
   "execution_count": 22,
   "metadata": {},
   "outputs": [
    {
     "data": {
      "image/png": "[encoded data removed]",
      "text/plain": [
       "<Figure size 432x288 with 1 Axes>"
      ]
     },
     "metadata": {},
     "output_type": "display_data"
    }
   ],
   "source": [
    "%matplotlib inline\n",
    "import matplotlib.pyplot as plt\n",
    "plt.style.use('seaborn-whitegrid')\n",
    "import numpy as np\n",
    "\n",
    "fig = plt.figure()\n",
    "ax = plt.axes()\n",
    "x = np.linspace(0, 50, 1000)\n",
    "ax.plot(x, 1 / 2 * x * x);\n",
    "plt.title(\"Calor dissipada a cada cotxe\")\n",
    "plt.xlabel(\"v [m/s]\")\n",
    "plt.ylabel(\"Q [kJ]\");"
   ]
  },
  {
   "cell_type": "code",
   "execution_count": 23,
   "metadata": {},
   "outputs": [
    {
     "data": {
      "image/png": "[encoded data removed]",
      "text/plain": [
       "<Figure size 432x288 with 1 Axes>"
      ]
     },
     "metadata": {},
     "output_type": "display_data"
    }
   ],
   "source": [
    "fig = plt.figure()\n",
    "ax = plt.axes()\n",
    "x = np.linspace(0, 50, 1000)\n",
    "ax.plot(x, x / 4);\n",
    "plt.title(\"Temps de frenada\")\n",
    "plt.xlabel(\"v [m/s]\")\n",
    "plt.ylabel(\"t [s]\");"
   ]
  },
  {
   "cell_type": "markdown",
   "metadata": {},
   "source": [
    "Com imagineu, la gràfica de l'espai recorregut a la frenada és més difícil de fer, ja que depén de **v0** i de **t**, que també depèn de **v0**. Però no per això aquesta dependència **quadràtica** és menys important, com sabreu tots els que estudieu per treure's el carnet de conduir!"
   ]
  },
  {
   "cell_type": "markdown",
   "metadata": {},
   "source": [
    "$v = v_{0} + a \\cdot t = 0 \\Rightarrow t = - \\frac{v_{0}}{a} $\n",
    "\n",
    "$\\Delta r = v_{0} \\cdot t + \\frac{1}{2}\\cdot a \\cdot t^{2}$\n",
    "\n",
    "$\\Delta r = v_{0} \\cdot (- \\frac{v_{0}}{a}) + \\frac{1}{2}\\cdot a \\cdot {(- \\frac{v_{0}}{a})^{2}}$\n",
    "\n",
    "$\\Delta r = - \\frac{(v_{0})^{2}}{a} + \\frac{1}{2}\\cdot \\frac{(v_{0})^{2}}{a} = \\frac{1}{2} \\frac{(v_{0})^{2}}{a}$"
   ]
  },
  {
   "cell_type": "code",
   "execution_count": 24,
   "metadata": {},
   "outputs": [
    {
     "data": {
      "image/png": "[encoded data removed]",
      "text/plain": [
       "<Figure size 432x288 with 1 Axes>"
      ]
     },
     "metadata": {},
     "output_type": "display_data"
    }
   ],
   "source": [
    "fig = plt.figure()\n",
    "ax = plt.axes()\n",
    "x = np.linspace(0, 50, 1000)\n",
    "ax.plot(x, 1 / 2 * x * x / 4);\n",
    "plt.title(\"Temps de frenada\")\n",
    "plt.xlabel(\"v [m/s]\")\n",
    "plt.ylabel(\"t [s]\");"
   ]
  },
  {
   "cell_type": "markdown",
   "metadata": {},
   "source": [
    "Representem la mateixa corba posant la velocitat en $\\frac{km}{h}$"
   ]
  },
  {
   "cell_type": "code",
   "execution_count": 25,
   "metadata": {},
   "outputs": [
    {
     "data": {
      "image/png": "[encoded data removed]",
      "text/plain": [
       "<Figure size 432x288 with 1 Axes>"
      ]
     },
     "metadata": {},
     "output_type": "display_data"
    }
   ],
   "source": [
    "fig = plt.figure()\n",
    "ax = plt.axes()\n",
    "x = np.linspace(0, 50, 1000)\n",
    "ax.plot(x * 3.6, 1 / 2 * x * x / 4);\n",
    "plt.title(\"Temps de frenada\")\n",
    "plt.xlabel(\"v [km/h]\")\n",
    "plt.ylabel(\"t [s]\");"
   ]
  },
  {
   "cell_type": "markdown",
   "metadata": {},
   "source": [
    "Com veieu per a una acceleració de - 4 $\\frac{m}{s}$ es compleix la regla de dividir per 10 la velocitat en $\\frac{km}{h}$ per obtenir la distància de seguretat en $m$. Aquesta acceleració correspon a **0,4g** , valor raonable en un cas real."
   ]
  },
  {
   "cell_type": "code",
   "execution_count": null,
   "metadata": {},
   "outputs": [],
   "source": []
  }
 ],
 "metadata": {
  "kernelspec": {
   "display_name": "Python 3",
   "language": "python",
   "name": "python3"
  },
  "language_info": {
   "codemirror_mode": {
    "name": "ipython",
    "version": 3
   },
   "file_extension": ".py",
   "mimetype": "text/x-python",
   "name": "python",
   "nbconvert_exporter": "python",
   "pygments_lexer": "ipython3",
   "version": "3.8.5"
  }
 },
 "nbformat": 4,
 "nbformat_minor": 4
}
