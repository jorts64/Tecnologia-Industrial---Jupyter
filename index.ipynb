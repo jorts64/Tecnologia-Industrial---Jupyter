{
 "cells": [
  {
   "cell_type": "markdown",
   "metadata": {},
   "source": [
    "# Tecnologia Industrial: jupyter notebooks"
   ]
  },
  {
   "cell_type": "markdown",
   "metadata": {},
   "source": [
    "## Índex"
   ]
  },
  {
   "cell_type": "markdown",
   "metadata": {},
   "source": [
    "## Introducció"
   ]
  },
  {
   "cell_type": "markdown",
   "metadata": {},
   "source": [
    "[Ús de python com a calculadora](TI1-0.1_Us_de_python_com_a_calculadora.ipynb)"
   ]
  },
  {
   "cell_type": "markdown",
   "metadata": {},
   "source": [
    "# Tecnologia Industrial I"
   ]
  },
  {
   "cell_type": "markdown",
   "metadata": {},
   "source": [
    "## 1. Energia. Treball. Potència\n",
    "[Llibre CC *Tecnologia Industrial I. Energia. Treball. Potència.*](http://www.jorts.net/ebooks/TI1-1_Energia.pdf)\n",
    "\n",
    "[Xocs inelàstics](TI1-1.1_Xocs_inelastics.ipynb)   \n",
    "[Xocs elàstics](TI1-1.2_Xocs_elastics.ipynb)   \n",
    "[Energia nuclear](TI1-1.3_Energia_nuclear.ipynb)    \n",
    "\n",
    "[Problemes](http://www.jorts.net/PAU/dbase/index.html?tema=TI1-01)"
   ]
  },
  {
   "cell_type": "markdown",
   "metadata": {},
   "source": [
    "## 2. Producció d'energia elèctrica\n",
    "[Llibre CC *Tecnologia Industrial I. Producció d'energia elèctrica*](http://www.jorts.net/ebooks/TI1-2_Centrals.pdf)\n",
    "\n",
    "[Cogeneració](TI1-2.1_Cogeneracio.ipynb)    \n",
    "[Reactors de fusió](TI1-2.2_Reactors_de_fusio.ipynb)    \n",
    "[Centrals elèctriques a Catalunya](TI1-2.3_Central_electriques_a_Catalunya.ipynb) Aquest arxiu només es pot visualitzar a [github](https://github.com/jorts64/Tecnologia-Industrial---Jupyter/blob/master/TI1-2.3_Central_electriques_a_Catalunya.ipynb) ja que *nbviewer* i *binder* tenen problemes amb la llibreria **basemap**    \n",
    "\n",
    "[Problemes](http://www.jorts.net/PAU/dbase/index.html?tema=TI1-02)"
   ]
  },
  {
   "cell_type": "markdown",
   "metadata": {},
   "source": [
    "## 3. Materials\n",
    "[Llibre CC *Tecnologia Industrial I. Materials*](http://www.jorts.net/ebooks/TI1-3_Materials.pdf)\n",
    "\n",
    "[Assaig de tracció](TI1-3.1_Assaig_de_traccio.ipynb)  \n",
    "[Assajos mecànics](TI1-3.2_Assajos_mecanics.ipynb)    \n",
    "[Densitat dels metalls](TI1-3.8_Densitat_dels_metalls.ipynb)    \n",
    "[Comparació propietats dels metalls](TI1-3.9_Comparacio_propietats_metalls.ipynb)    \n",
    "\n",
    "[Problemes](http://www.jorts.net/PAU/dbase/index.html?tema=TI1-03)"
   ]
  },
  {
   "cell_type": "markdown",
   "metadata": {},
   "source": [
    "## 4. Corrent Continu\n",
    "[Lleis de Kirchhoff](TI1-4.2_Lleis_de_Kirchhoff.ipynb)    \n",
    "\n",
    "[Problemes](http://www.jorts.net/PAU/dbase/index.html?tema=TI1-04)"
   ]
  },
  {
   "cell_type": "markdown",
   "metadata": {},
   "source": [
    "## 5. Mecànica\n",
    "\n",
    "[Problemes](http://www.jorts.net/PAU/dbase/index.html?tema=TI1-05)"
   ]
  },
  {
   "cell_type": "markdown",
   "metadata": {},
   "source": [
    "# Tecnologia Industrial II"
   ]
  },
  {
   "cell_type": "markdown",
   "metadata": {},
   "source": [
    "## 1. Energia. Moment. Termodinàmica\n",
    "\n",
    "[Problemes](http://www.jorts.net/PAU/dbase/index.html?tema=TI2-01)"
   ]
  },
  {
   "cell_type": "markdown",
   "metadata": {},
   "source": [
    "## 2. Corrent Altern\n",
    "[Circuit RC sèrie](TI2-2.2_RC_serie.ipynb)\n",
    "\n",
    "[Problemes](http://www.jorts.net/PAU/dbase/index.html?tema=TI2-02)"
   ]
  },
  {
   "cell_type": "markdown",
   "metadata": {},
   "source": [
    "## 3. Sistemes de control\n",
    "\n",
    "[Problemes](http://www.jorts.net/PAU/dbase/index.html?tema=TI2-03)"
   ]
  },
  {
   "cell_type": "markdown",
   "metadata": {},
   "source": [
    "## 4. Oficina tècnica\n",
    "\n",
    "[Problemes](http://www.jorts.net/PAU/dbase/index.html?tema=TI2-04)"
   ]
  },
  {
   "cell_type": "markdown",
   "metadata": {},
   "source": [
    "## 5. Empresa\n",
    "\n",
    "[Problemes](http://www.jorts.net/PAU/dbase/index.html?tema=TI2-05)"
   ]
  },
  {
   "cell_type": "code",
   "execution_count": null,
   "metadata": {},
   "outputs": [],
   "source": []
  }
 ],
 "metadata": {
  "kernelspec": {
   "display_name": "Python 3",
   "language": "python",
   "name": "python3"
  },
  "language_info": {
   "codemirror_mode": {
    "name": "ipython",
    "version": 3
   },
   "file_extension": ".py",
   "mimetype": "text/x-python",
   "name": "python",
   "nbconvert_exporter": "python",
   "pygments_lexer": "ipython3",
   "version": "3.7.3"
  }
 },
 "nbformat": 4,
 "nbformat_minor": 4
}
