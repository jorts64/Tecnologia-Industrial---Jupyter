{
 "cells": [
  {
   "cell_type": "markdown",
   "metadata": {},
   "source": [
    "# Dinàmica de les rotacions"
   ]
  },
  {
   "cell_type": "markdown",
   "metadata": {},
   "source": [
    "A física heu estudiat el moviment d'una partícula, i les lleis de Newton associades. Però, que passa quan parlem de rotacions d'un cos? La dinàmica de les rotacions, del cos rígid, és un nou problema per a vosaltres."
   ]
  },
  {
   "cell_type": "markdown",
   "metadata": {},
   "source": [
    "## Parell de forces o moment"
   ]
  },
  {
   "cell_type": "markdown",
   "metadata": {},
   "source": [
    "Quan empenyem una porta, per a una mateuixa força, és més efectiu si empenyeu el més lluny possible de les frontisses. Mai us heu trobat que us costa obrir la porta de l'ascensor quan empenyeu pel costat de les frontisses?\n",
    "\n",
    "Per altra banda, l'efecte és més efectiu si empenyeu perpendicularment a la porta. De fet, l'eficiència va relacionada amb un factor $sin(\\varphi)$. Penseu en un molinet de vent, que gira més ràpid encarat al vent.\n",
    "\n",
    "Naturalment girarà més quan empenyem amb més força.\n",
    "\n",
    "Tot això ho podem expressar matemàticament amb\n",
    "\n",
    "$\\Gamma = r \\cdot F \\cdot sin(\\varphi)$\n",
    "\n",
    "Aquesta expressió correspon a l'àlgebra vectorial al mòdul del producte vectorial dels vectors $\\overrightarrow{r}$ i $\\overrightarrow{F}$ \n",
    "\n",
    "El producte vectorial es representa pel símbol $\\times$ o amb el símbol $\\wedge$\n",
    "\n",
    "$\\overrightarrow{\\Gamma} = \\overrightarrow{r} \\times \\overrightarrow{F}$\n",
    "\n",
    "$\\Gamma$ és el **parell** o **moment** de la força $\\overrightarrow{F}$ a la distància $\\overrightarrow{r}$, un vector perpendicular a $\\overrightarrow{r}$ i a $\\overrightarrow{F}$, i amb el sentit de l'avanç d'un cargol girant de $\\overrightarrow{r}$ cap a $\\overrightarrow{F}$ amb els dos vectors units al seu origen, o el que és el mateix, avançant $\\overrightarrow{F}$ amb el seu origen lligat a $\\overrightarrow{r}$. Es representa amb la lletra grega gamma majúscula $\\overrightarrow{\\Gamma}$ o amb la letra M majúscula $\\overrightarrow{M}$."
   ]
  },
  {
   "cell_type": "markdown",
   "metadata": {},
   "source": [
    "![](img/Moglfm0201_momento.jpg)\n",
    "\n",
    "El mòdul del moment val dos vegades l'àrea del triangle definit per $\\overrightarrow{r}$ i $\\overrightarrow{F}$, i no varia si desplacem la força $\\overrightarrow{F}$ al llarg de la seva línea d'acció. Una tècnica habitual per calcular moments és fer servir aquesta propietat i desplaçar $\\overrightarrow{F}$ fins que sigui perpendicular a $\\overrightarrow{r}$, de forma que el $sin(\\varphi)$ valgui 1."
   ]
  },
  {
   "cell_type": "markdown",
   "metadata": {},
   "source": [
    "## Paral·lelisme entre el moviment linial i angular"
   ]
  },
  {
   "cell_type": "markdown",
   "metadata": {},
   "source": [
    "Al igual que, segons la segona llei de Newton, una força genera una acceleració linial, un moment genera una acceleració angular.\n",
    "\n",
    "$\\begin{array}{rcl}\n",
    "\\overrightarrow{F}=m \\cdot \\overrightarrow{a} & \\overrightarrow{\\Gamma} = \\textbf{I} \\cdot \\overrightarrow{\\alpha}\n",
    "\\end{array}$\n",
    "\n",
    "On $\\textbf{I}$ és el **moment d'inèrcia**, un concepte que veurem el curs vinent. El seu estudi utilitza càlculs del tipus\n",
    "\n",
    "$I = \\sum m_i \\cdot r_i^2$\n",
    "\n",
    "En realitat les coses són més complicades\n",
    "\n",
    "\n",
    "$\\begin{array}{rcl}\n",
    "\\overrightarrow{p} \\equiv m \\cdot \\overrightarrow{v} & \\overrightarrow{L} \\equiv \\overrightarrow{r} \\times \\overrightarrow{p} = \\textbf{I} \\cdot \\overrightarrow{\\omega}  \\\\\n",
    "\\overrightarrow{F} = \\frac{d \\overrightarrow{p}}{dx} & \\overrightarrow{\\Gamma} = \\frac{d \\overrightarrow{L}}{dx}\n",
    "\\end{array}$\n",
    "\n",
    "on $\\overrightarrow{L}$ és el **moment angular**\n",
    "\n",
    "![](img/Torque_animation.gif)\n"
   ]
  },
  {
   "cell_type": "markdown",
   "metadata": {},
   "source": [
    "A partir d'aquí podem fer un paral·lelisme entre les equacions dels moviments linials i angulars:\n",
    "\n",
    "**Acceleració constant**\n",
    "\n",
    "$\\begin{array}{cc}\n",
    "\\overrightarrow{v} = \\overrightarrow{a} \\cdot t & \\overrightarrow{\\omega} = \\overrightarrow{\\alpha} \\cdot t  \\\\   \n",
    "\\overrightarrow{x} = \\overrightarrow{x_0} + \\overrightarrow{v} \\cdot t + \\frac{1}{2} \\cdot \\overrightarrow{a} \\cdot t^2 & \\overrightarrow{\\varphi} = \\overrightarrow{\\varphi_0} + \\overrightarrow{\\omega} \\cdot t + \\frac{1}{2} \\cdot \\overrightarrow{\\alpha} \\cdot t^2\n",
    "\\end{array}$\n",
    "\n",
    "**Potència i treball**\n",
    "\n",
    "$\\begin{array}{cc}\n",
    "P = \\overrightarrow{F} \\cdot \\overrightarrow{v} & P = \\overrightarrow{\\Gamma} \\cdot \\overrightarrow{\\omega} \\\\\n",
    "W = \\overrightarrow{F} \\cdot \\overrightarrow{x} & P = \\overrightarrow{\\Gamma} \\cdot \\overrightarrow{\\varphi}\n",
    "\\end{array}$\n"
   ]
  },
  {
   "cell_type": "markdown",
   "metadata": {},
   "source": [
    "## Condicions d'equilibri"
   ]
  },
  {
   "cell_type": "markdown",
   "metadata": {},
   "source": [
    "Si volem que un objecte en repòs no es mogui, cal que no hagi cap tipus d'acceleració, es a dir, que la suma de forces sigui 0 i la suma de moments sigui 0:\n",
    "\n",
    "$\\sum \\overrightarrow{F_i} = \\overrightarrow{0}$\n",
    "\n",
    "$\\sum \\overrightarrow{\\Gamma_i} = \\overrightarrow{0}$\n"
   ]
  },
  {
   "cell_type": "markdown",
   "metadata": {},
   "source": [
    "### Diagrama del cos lliure"
   ]
  },
  {
   "cell_type": "markdown",
   "metadata": {},
   "source": [
    "Per aplicar aquestes condicions d'equilibri és molt útil dibuixar el diagram del cos lliure, on només dibuixem el cos que estudiem i les forces i moments aplicats sobre ell."
   ]
  },
  {
   "cell_type": "markdown",
   "metadata": {},
   "source": [
    "**Exemple: PAU 2010 S1 3A**\n",
    "\n",
    "![](img/Screenshots_2013-05-01-23-02-34.png)\n",
    "\n",
    "**Solució**\n",
    "\n",
    "![](img/Screenshots_2013-05-01-23-30-21.png)"
   ]
  },
  {
   "cell_type": "code",
   "execution_count": null,
   "metadata": {},
   "outputs": [],
   "source": []
  }
 ],
 "metadata": {
  "kernelspec": {
   "display_name": "Python 3",
   "language": "python",
   "name": "python3"
  },
  "language_info": {
   "codemirror_mode": {
    "name": "ipython",
    "version": 3
   },
   "file_extension": ".py",
   "mimetype": "text/x-python",
   "name": "python",
   "nbconvert_exporter": "python",
   "pygments_lexer": "ipython3",
   "version": "3.8.5"
  }
 },
 "nbformat": 4,
 "nbformat_minor": 4
}
