{
 "cells": [
  {
   "cell_type": "markdown",
   "metadata": {},
   "source": [
    "# Densitat dels metalls"
   ]
  },
  {
   "cell_type": "code",
   "execution_count": 1,
   "metadata": {},
   "outputs": [],
   "source": [
    "%matplotlib inline\n",
    "import matplotlib.pyplot as plt\n",
    "import numpy as np\n",
    "import pandas as pd"
   ]
  },
  {
   "cell_type": "code",
   "execution_count": 2,
   "metadata": {},
   "outputs": [
    {
     "data": {
      "text/html": [
       "<div>\n",
       "<style scoped>\n",
       "    .dataframe tbody tr th:only-of-type {\n",
       "        vertical-align: middle;\n",
       "    }\n",
       "\n",
       "    .dataframe tbody tr th {\n",
       "        vertical-align: top;\n",
       "    }\n",
       "\n",
       "    .dataframe thead th {\n",
       "        text-align: right;\n",
       "    }\n",
       "</style>\n",
       "<table border=\"1\" class=\"dataframe\">\n",
       "  <thead>\n",
       "    <tr style=\"text-align: right;\">\n",
       "      <th></th>\n",
       "      <th>Símbol</th>\n",
       "      <th>radi</th>\n",
       "      <th>A</th>\n",
       "      <th>rho</th>\n",
       "      <th>estructura</th>\n",
       "    </tr>\n",
       "  </thead>\n",
       "  <tbody>\n",
       "    <tr>\n",
       "      <th>0</th>\n",
       "      <td>Mg</td>\n",
       "      <td>0.160</td>\n",
       "      <td>24.31</td>\n",
       "      <td>1.74</td>\n",
       "      <td>hcp</td>\n",
       "    </tr>\n",
       "    <tr>\n",
       "      <th>1</th>\n",
       "      <td>Al</td>\n",
       "      <td>0.143</td>\n",
       "      <td>26.98</td>\n",
       "      <td>2.70</td>\n",
       "      <td>fcc</td>\n",
       "    </tr>\n",
       "    <tr>\n",
       "      <th>2</th>\n",
       "      <td>Si</td>\n",
       "      <td>0.117</td>\n",
       "      <td>28.09</td>\n",
       "      <td>2.33</td>\n",
       "      <td>dia.cub.</td>\n",
       "    </tr>\n",
       "    <tr>\n",
       "      <th>3</th>\n",
       "      <td>Ti</td>\n",
       "      <td>0.147</td>\n",
       "      <td>47.90</td>\n",
       "      <td>4.51</td>\n",
       "      <td>hcp</td>\n",
       "    </tr>\n",
       "    <tr>\n",
       "      <th>4</th>\n",
       "      <td>Cr</td>\n",
       "      <td>0.125</td>\n",
       "      <td>52.00</td>\n",
       "      <td>7.19</td>\n",
       "      <td>bcc</td>\n",
       "    </tr>\n",
       "    <tr>\n",
       "      <th>5</th>\n",
       "      <td>Fe</td>\n",
       "      <td>0.124</td>\n",
       "      <td>55.85</td>\n",
       "      <td>7.87</td>\n",
       "      <td>bcc</td>\n",
       "    </tr>\n",
       "    <tr>\n",
       "      <th>6</th>\n",
       "      <td>Ni</td>\n",
       "      <td>0.125</td>\n",
       "      <td>58.71</td>\n",
       "      <td>8.91</td>\n",
       "      <td>fcc</td>\n",
       "    </tr>\n",
       "    <tr>\n",
       "      <th>7</th>\n",
       "      <td>Cu</td>\n",
       "      <td>0.128</td>\n",
       "      <td>63.55</td>\n",
       "      <td>8.93</td>\n",
       "      <td>fcc</td>\n",
       "    </tr>\n",
       "    <tr>\n",
       "      <th>8</th>\n",
       "      <td>Zn</td>\n",
       "      <td>0.133</td>\n",
       "      <td>65.38</td>\n",
       "      <td>7.13</td>\n",
       "      <td>hcp</td>\n",
       "    </tr>\n",
       "    <tr>\n",
       "      <th>9</th>\n",
       "      <td>Ag</td>\n",
       "      <td>0.144</td>\n",
       "      <td>107.87</td>\n",
       "      <td>10.50</td>\n",
       "      <td>fcc</td>\n",
       "    </tr>\n",
       "    <tr>\n",
       "      <th>10</th>\n",
       "      <td>Sn</td>\n",
       "      <td>0.158</td>\n",
       "      <td>118.69</td>\n",
       "      <td>7.29</td>\n",
       "      <td>bct</td>\n",
       "    </tr>\n",
       "    <tr>\n",
       "      <th>11</th>\n",
       "      <td>W</td>\n",
       "      <td>0.137</td>\n",
       "      <td>183.85</td>\n",
       "      <td>19.25</td>\n",
       "      <td>bcc</td>\n",
       "    </tr>\n",
       "    <tr>\n",
       "      <th>12</th>\n",
       "      <td>Pt</td>\n",
       "      <td>0.138</td>\n",
       "      <td>195.09</td>\n",
       "      <td>21.44</td>\n",
       "      <td>fcc</td>\n",
       "    </tr>\n",
       "    <tr>\n",
       "      <th>13</th>\n",
       "      <td>Au</td>\n",
       "      <td>0.144</td>\n",
       "      <td>196.97</td>\n",
       "      <td>19.28</td>\n",
       "      <td>fcc</td>\n",
       "    </tr>\n",
       "    <tr>\n",
       "      <th>14</th>\n",
       "      <td>Pb</td>\n",
       "      <td>0.175</td>\n",
       "      <td>207.20</td>\n",
       "      <td>11.34</td>\n",
       "      <td>fcc</td>\n",
       "    </tr>\n",
       "    <tr>\n",
       "      <th>15</th>\n",
       "      <td>U</td>\n",
       "      <td>0.138</td>\n",
       "      <td>238.03</td>\n",
       "      <td>19.05</td>\n",
       "      <td>ortho.</td>\n",
       "    </tr>\n",
       "  </tbody>\n",
       "</table>\n",
       "</div>"
      ],
      "text/plain": [
       "   Símbol   radi       A    rho estructura\n",
       "0      Mg  0.160   24.31   1.74        hcp\n",
       "1      Al  0.143   26.98   2.70        fcc\n",
       "2      Si  0.117   28.09   2.33   dia.cub.\n",
       "3      Ti  0.147   47.90   4.51        hcp\n",
       "4      Cr  0.125   52.00   7.19        bcc\n",
       "5      Fe  0.124   55.85   7.87        bcc\n",
       "6      Ni  0.125   58.71   8.91        fcc\n",
       "7      Cu  0.128   63.55   8.93        fcc\n",
       "8      Zn  0.133   65.38   7.13        hcp\n",
       "9      Ag  0.144  107.87  10.50        fcc\n",
       "10     Sn  0.158  118.69   7.29        bct\n",
       "11      W  0.137  183.85  19.25        bcc\n",
       "12     Pt  0.138  195.09  21.44        fcc\n",
       "13     Au  0.144  196.97  19.28        fcc\n",
       "14     Pb  0.175  207.20  11.34        fcc\n",
       "15      U  0.138  238.03  19.05     ortho."
      ]
     },
     "execution_count": 2,
     "metadata": {},
     "output_type": "execute_result"
    }
   ],
   "source": [
    "metalls = pd.read_csv('data/metalls.csv')\n",
    "metalls"
   ]
  },
  {
   "cell_type": "markdown",
   "metadata": {},
   "source": [
    "Primer carregarem aquestes dades, tenint en compte que el radi atòmic el tenim en nm i volem la densitat en g/cm³    \n",
    "També definiren el nomnbre d'Avogadre Na"
   ]
  },
  {
   "cell_type": "code",
   "execution_count": 3,
   "metadata": {},
   "outputs": [],
   "source": [
    "r=metalls['radi']*10**(-7)\n",
    "A=metalls['A']\n",
    "rho=metalls['rho']\n",
    "Na=6.023*10**23"
   ]
  },
  {
   "cell_type": "markdown",
   "metadata": {},
   "source": [
    "## Càlcul de la densitat de l'or (FCC)\n",
    "\n",
    "En aquest cas el costat de la cel·la unitat és $a=\\frac{4}{\\sqrt{2}}\\cdot r$     \n",
    "En cada cel·la tenim 4 atoms complets    \n",
    "La densitat es pot calcular com      \n",
    "$\\rho = \\frac{4}{a^{3}}\\cdot \\frac{A}{N_{a}}$"
   ]
  },
  {
   "cell_type": "code",
   "execution_count": 4,
   "metadata": {},
   "outputs": [
    {
     "data": {
      "text/plain": [
       "19.360864981492718"
      ]
     },
     "execution_count": 4,
     "metadata": {},
     "output_type": "execute_result"
    }
   ],
   "source": [
    "n=13\n",
    "a=4/np.sqrt(2)*r[n]\n",
    "densitat=4/a**3*A[n]/Na\n",
    "densitat"
   ]
  },
  {
   "cell_type": "markdown",
   "metadata": {},
   "source": [
    "Com veiem es tracta d'una bona estimació del valor real"
   ]
  },
  {
   "cell_type": "code",
   "execution_count": 5,
   "metadata": {},
   "outputs": [
    {
     "data": {
      "text/plain": [
       "19.28"
      ]
     },
     "execution_count": 5,
     "metadata": {},
     "output_type": "execute_result"
    }
   ],
   "source": [
    "rho[n]"
   ]
  },
  {
   "cell_type": "markdown",
   "metadata": {},
   "source": [
    "## Càlcul de la densitat del ferro (BCC)\n",
    "\n",
    "En aquest cas el costat de la cel·la unitat és $a=\\frac{4}{\\sqrt{3}}\\cdot r$    \n",
    "En cada cel·la tenim 2 atoms complets    \n",
    "La densitat es pot calcular com     \n",
    "$\\rho = \\frac{2}{a^{3}}\\cdot \\frac{A}{N_{a}}$"
   ]
  },
  {
   "cell_type": "code",
   "execution_count": 6,
   "metadata": {
    "scrolled": true
   },
   "outputs": [
    {
     "data": {
      "text/plain": [
       "7.89727320368215"
      ]
     },
     "execution_count": 6,
     "metadata": {},
     "output_type": "execute_result"
    }
   ],
   "source": [
    "n=5\n",
    "a=4/np.sqrt(3)*r[n]\n",
    "densitat=2/a**3*A[n]/Na\n",
    "densitat"
   ]
  },
  {
   "cell_type": "markdown",
   "metadata": {},
   "source": [
    "Que s'acosta també molt al valor real"
   ]
  },
  {
   "cell_type": "code",
   "execution_count": 7,
   "metadata": {},
   "outputs": [
    {
     "data": {
      "text/plain": [
       "7.87"
      ]
     },
     "execution_count": 7,
     "metadata": {},
     "output_type": "execute_result"
    }
   ],
   "source": [
    "rho[n]"
   ]
  },
  {
   "cell_type": "code",
   "execution_count": null,
   "metadata": {},
   "outputs": [],
   "source": []
  }
 ],
 "metadata": {
  "kernelspec": {
   "display_name": "Python 3",
   "language": "python",
   "name": "python3"
  },
  "language_info": {
   "codemirror_mode": {
    "name": "ipython",
    "version": 3
   },
   "file_extension": ".py",
   "mimetype": "text/x-python",
   "name": "python",
   "nbconvert_exporter": "python",
   "pygments_lexer": "ipython3",
   "version": "3.7.3"
  }
 },
 "nbformat": 4,
 "nbformat_minor": 4
}
